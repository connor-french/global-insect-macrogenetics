{
 "cells": [
  {
   "cell_type": "markdown",
   "metadata": {},
   "source": [
    "## Aggregate rasters\n",
    "This is the workflow for aggregating predictor rasters to the coarser resolutions used for analysis (96.5 km, 193 km, and 385.9 km). Note- many of these aggregations use up a lot of memory that R doesn't efficiently dump. You may need to restart R in between aggregating some rasters to free up memory."
   ]
  },
  {
   "cell_type": "code",
   "execution_count": 1,
   "metadata": {},
   "outputs": [
    {
     "name": "stderr",
     "output_type": "stream",
     "text": [
      "Loading required package: sp\n",
      "\n",
      "here() starts at /Users/labuser/Desktop/connorfrench/bigass-phylogeography/BigAss-phylogeography\n",
      "\n",
      "── \u001b[1mAttaching packages\u001b[22m ─────────────────────────────────────── tidyverse 1.3.0 ──\n",
      "\n",
      "\u001b[32m✔\u001b[39m \u001b[34mggplot2\u001b[39m 3.2.1     \u001b[32m✔\u001b[39m \u001b[34mpurrr  \u001b[39m 0.3.3\n",
      "\u001b[32m✔\u001b[39m \u001b[34mtibble \u001b[39m 2.1.3     \u001b[32m✔\u001b[39m \u001b[34mdplyr  \u001b[39m 0.8.3\n",
      "\u001b[32m✔\u001b[39m \u001b[34mtidyr  \u001b[39m 1.0.0     \u001b[32m✔\u001b[39m \u001b[34mstringr\u001b[39m 1.4.0\n",
      "\u001b[32m✔\u001b[39m \u001b[34mreadr  \u001b[39m 1.3.1     \u001b[32m✔\u001b[39m \u001b[34mforcats\u001b[39m 0.4.0\n",
      "\n",
      "── \u001b[1mConflicts\u001b[22m ────────────────────────────────────────── tidyverse_conflicts() ──\n",
      "\u001b[31m✖\u001b[39m \u001b[34mtidyr\u001b[39m::\u001b[32mextract()\u001b[39m masks \u001b[34mraster\u001b[39m::extract()\n",
      "\u001b[31m✖\u001b[39m \u001b[34mdplyr\u001b[39m::\u001b[32mfilter()\u001b[39m  masks \u001b[34mstats\u001b[39m::filter()\n",
      "\u001b[31m✖\u001b[39m \u001b[34mdplyr\u001b[39m::\u001b[32mlag()\u001b[39m     masks \u001b[34mstats\u001b[39m::lag()\n",
      "\u001b[31m✖\u001b[39m \u001b[34mdplyr\u001b[39m::\u001b[32mselect()\u001b[39m  masks \u001b[34mraster\u001b[39m::select()\n",
      "\n",
      "Loading required package: future\n",
      "\n",
      "\n",
      "Attaching package: ‘future’\n",
      "\n",
      "\n",
      "The following object is masked from ‘package:raster’:\n",
      "\n",
      "    values\n",
      "\n",
      "\n"
     ]
    }
   ],
   "source": [
    "library(raster)\n",
    "library(rnaturalearth)\n",
    "library(here)\n",
    "library(tictoc)\n",
    "library(tidyverse)\n",
    "library(furrr)\n",
    "library(climateStability)\n",
    "\n",
    "out_path <- here(\"data\", \"climate_agg\")\n",
    "res_list <- list(high = 96.5, medium = 193, low = 385.9)"
   ]
  },
  {
   "cell_type": "markdown",
   "metadata": {},
   "source": [
    "Create template rasters to resample predictors and filter genetic data with. \n",
    "\n",
    "Template resolutions:  \n",
    "* 96.5 km (1 degree at 30 deg latitude) {**template_high**}\n",
    "* 193 km (2 degrees) {**template_medium**}\n",
    "* 385.9 km (4 degrees) {**template_low**}  \n",
    "\n",
    "\n",
    "*Note that I am not aggregating predictor rasters to the low resolution. After exploring the genetic data, we determined that a low resolution is not compatible with our analyses. I'm leaving the template here because we used it to filter the genetic data*"
   ]
  },
  {
   "cell_type": "code",
   "execution_count": 2,
   "metadata": {},
   "outputs": [],
   "source": [
    "crs <- \"+proj=cea +lon_0=0 +lat_ts=30 +x_0=0 +y_0=0 +datum=WGS84 +ellps=WGS84 +units=m +no_defs\"\n",
    "\n",
    "# read in a world shape file. Might make this able to use countries as well\n",
    "world_shp <- rnaturalearth::ne_coastline(scale = \"small\")\n",
    "  \n",
    "# convert the coordinate system to behrmann\n",
    "world_shp <- sp::spTransform(world_shp, crs)\n",
    "  \n",
    "# turn it into a raster\n",
    "world_raster <- raster::raster(world_shp)\n",
    "\n",
    "\n",
    "# transform world raster to high resolution\n",
    "template_high <- world_raster\n",
    "res(template_high) <- 96500\n",
    "\n",
    "\n",
    "# transform world raster to medium resolution\n",
    "template_medium <- world_raster\n",
    "res(template_medium) <- 193000\n",
    "\n",
    "# transform world raster to low resolution\n",
    "template_low <- world_raster\n",
    "res(template_low) <- 385900\n",
    "\n",
    "# write to data/templates/ folder\n",
    "if (!file.exists(here(\"data\", \"templates\", \"template_high.tif\"))){\n",
    "    writeRaster(template_high, filename = here(\"data\", \"templates\", \"template_high.tif\"))\n",
    "}\n",
    "\n",
    "if (!file.exists(here(\"data\", \"templates\", \"template_medium.tif\"))){\n",
    "    writeRaster(template_medium, filename = here(\"data\", \"templates\", \"template_medium.tif\"))\n",
    "}\n",
    "\n",
    "if (!file.exists(here(\"data\", \"templates\", \"template_low.tif\"))){\n",
    "    writeRaster(template_medium, filename = here(\"data\", \"templates\", \"template_low.tif\"))\n",
    "}"
   ]
  },
  {
   "cell_type": "markdown",
   "metadata": {},
   "source": [
    "This function follows these steps:  \n",
    "* reproject raster to Behrmann equal-area projection\n",
    "* resample with bilinear interpolation to the coarse resolution\n",
    "\n",
    "This process is slow, but results in rasters with the precise desired resolution in km. Alternatives result in imprecise resolutions, where for example a 96.5 km resolution specification, the resolution is actually 96.48628 km or 95 km. "
   ]
  },
  {
   "cell_type": "code",
   "execution_count": 3,
   "metadata": {},
   "outputs": [],
   "source": [
    "# function to resample rasters to any equal area grid of the three resolutions we're considering.\n",
    "\n",
    "\n",
    "# crs: define the crs you want to project to. It must be an equal area projection. The default crs is behrmann equal area. \n",
    "# x: a raster or raster stack\n",
    "# km: km resolution you want (area will be km x km)\n",
    "# is_categorical: if is_categorical is true, using \"ngb\" interpolation\n",
    "resample_equal_area <- function(x, \n",
    "                                crs = \"+proj=cea +lon_0=0 +lat_ts=30 +x_0=0 +y_0=0 +datum=WGS84 +ellps=WGS84 +units=m +no_defs\", \n",
    "                                km,\n",
    "                                is_categorical = FALSE) {\n",
    "  \n",
    "  # project raster to new coordinate system (this has no values- we put values back in later)\n",
    "  x_ext <- raster::projectExtent(x, crs)\n",
    "  \n",
    "  # make the resolution square since we're interested in an equal area projection\n",
    "  raster::res(x_ext) <- raster::xres(x_ext)\n",
    "  \n",
    "  # add original values to our projection. We can't take shortcuts like doing this instead of doing projectExtent first because it removes cells at the extreme latitudes.\n",
    "  x_repro <- raster::projectRaster(x, x_ext)\n",
    "  \n",
    "  if (km == 96.5) {\n",
    "      end_raster = template_high\n",
    "  } else if (km == 193) {\n",
    "      end_raster = template_medium\n",
    "  } else if (km == 385.9) {\n",
    "      end_raster = template_low\n",
    "  } else stop(\"Incorrect resolution specification. Must be either 96.5 or 193\")\n",
    "  \n",
    "  # resample our raster of interest to the beginning raster  \n",
    "  if (is_categorical) {\n",
    "      m <- \"ngb\"\n",
    "  } else m <- \"bilinear\"\n",
    "  \n",
    "  \n",
    "  x_resampled <- raster::resample(x_repro, end_raster, method = m) \n",
    "\n",
    "  \n",
    "  return(x_resampled)\n",
    "}\n"
   ]
  },
  {
   "cell_type": "code",
   "execution_count": 4,
   "metadata": {},
   "outputs": [],
   "source": [
    "# function to write aggregated rasters to file, using a specified prefix for the file and layer names\n",
    "write_raster <- function (x, prefix) {\n",
    "    names(x) <- paste0(prefix, \"_\", names(x))\n",
    "    out_file <- file.path(out_path, paste0(names(x), \".tif\"))\n",
    "    writeRaster(x, filename = out_file, overwrite = TRUE)\n",
    "}"
   ]
  },
  {
   "cell_type": "markdown",
   "metadata": {},
   "source": [
    "## Current climate\n",
    "From [paleoclim.org](http://www.paleoclim.org/), based on [CHELSA](http://chelsa-climate.org/bioclim/). 2.5 arcmin resolution."
   ]
  },
  {
   "cell_type": "code",
   "execution_count": 75,
   "metadata": {},
   "outputs": [],
   "source": [
    "current_path <- dir(here(\"data\", \"climate_raw\", \"current_bioclim\"), pattern = \"*.tif$\", full.names = TRUE)\n",
    "current_rast_list <- purrr::map(current_path, raster)"
   ]
  },
  {
   "cell_type": "markdown",
   "metadata": {},
   "source": [
    "#### 96.5 km (high) resolution"
   ]
  },
  {
   "cell_type": "code",
   "execution_count": 76,
   "metadata": {},
   "outputs": [
    {
     "name": "stderr",
     "output_type": "stream",
     "text": [
      "Warning message in rgdal::rawTransform(projfrom, projto, nrow(xy), xy[, 1], xy[, :\n",
      "“51 projected point(s) not finite”\n",
      "Warning message in rgdal::rawTransform(projfrom, projto, nrow(xy), xy[, 1], xy[, :\n",
      "“51 projected point(s) not finite”\n",
      "Warning message in rgdal::rawTransform(projfrom, projto, nrow(xy), xy[, 1], xy[, :\n",
      "“51 projected point(s) not finite”\n",
      "Warning message in rgdal::rawTransform(projfrom, projto, nrow(xy), xy[, 1], xy[, :\n",
      "“51 projected point(s) not finite”\n",
      "Warning message in rgdal::rawTransform(projfrom, projto, nrow(xy), xy[, 1], xy[, :\n",
      "“51 projected point(s) not finite”\n",
      "Warning message in rgdal::rawTransform(projfrom, projto, nrow(xy), xy[, 1], xy[, :\n",
      "“51 projected point(s) not finite”\n",
      "Warning message in rgdal::rawTransform(projfrom, projto, nrow(xy), xy[, 1], xy[, :\n",
      "“51 projected point(s) not finite”\n",
      "Warning message in rgdal::rawTransform(projfrom, projto, nrow(xy), xy[, 1], xy[, :\n",
      "“51 projected point(s) not finite”\n",
      "Warning message in rgdal::rawTransform(projfrom, projto, nrow(xy), xy[, 1], xy[, :\n",
      "“51 projected point(s) not finite”\n",
      "Warning message in rgdal::rawTransform(projfrom, projto, nrow(xy), xy[, 1], xy[, :\n",
      "“51 projected point(s) not finite”\n",
      "Warning message in rgdal::rawTransform(projfrom, projto, nrow(xy), xy[, 1], xy[, :\n",
      "“51 projected point(s) not finite”\n",
      "Warning message in rgdal::rawTransform(projfrom, projto, nrow(xy), xy[, 1], xy[, :\n",
      "“51 projected point(s) not finite”\n",
      "Warning message in rgdal::rawTransform(projfrom, projto, nrow(xy), xy[, 1], xy[, :\n",
      "“51 projected point(s) not finite”\n",
      "Warning message in rgdal::rawTransform(projfrom, projto, nrow(xy), xy[, 1], xy[, :\n",
      "“51 projected point(s) not finite”\n",
      "Warning message in rgdal::rawTransform(projfrom, projto, nrow(xy), xy[, 1], xy[, :\n",
      "“51 projected point(s) not finite”\n",
      "Warning message in rgdal::rawTransform(projfrom, projto, nrow(xy), xy[, 1], xy[, :\n",
      "“51 projected point(s) not finite”\n",
      "Warning message in rgdal::rawTransform(projfrom, projto, nrow(xy), xy[, 1], xy[, :\n",
      "“51 projected point(s) not finite”\n",
      "Warning message in rgdal::rawTransform(projfrom, projto, nrow(xy), xy[, 1], xy[, :\n",
      "“51 projected point(s) not finite”\n",
      "Warning message in rgdal::rawTransform(projfrom, projto, nrow(xy), xy[, 1], xy[, :\n",
      "“51 projected point(s) not finite”\n",
      "Warning message in rgdal::rawTransform(projfrom, projto, nrow(xy), xy[, 1], xy[, :\n",
      "“51 projected point(s) not finite”\n",
      "Warning message in rgdal::rawTransform(projfrom, projto, nrow(xy), xy[, 1], xy[, :\n",
      "“51 projected point(s) not finite”\n",
      "Warning message in rgdal::rawTransform(projfrom, projto, nrow(xy), xy[, 1], xy[, :\n",
      "“51 projected point(s) not finite”\n",
      "Warning message in rgdal::rawTransform(projfrom, projto, nrow(xy), xy[, 1], xy[, :\n",
      "“51 projected point(s) not finite”\n",
      "Warning message in rgdal::rawTransform(projfrom, projto, nrow(xy), xy[, 1], xy[, :\n",
      "“51 projected point(s) not finite”\n",
      "Warning message in rgdal::rawTransform(projfrom, projto, nrow(xy), xy[, 1], xy[, :\n",
      "“51 projected point(s) not finite”\n",
      "Warning message in rgdal::rawTransform(projfrom, projto, nrow(xy), xy[, 1], xy[, :\n",
      "“51 projected point(s) not finite”\n",
      "Warning message in rgdal::rawTransform(projfrom, projto, nrow(xy), xy[, 1], xy[, :\n",
      "“51 projected point(s) not finite”\n",
      "Warning message in rgdal::rawTransform(projfrom, projto, nrow(xy), xy[, 1], xy[, :\n",
      "“51 projected point(s) not finite”\n",
      "Warning message in rgdal::rawTransform(projfrom, projto, nrow(xy), xy[, 1], xy[, :\n",
      "“51 projected point(s) not finite”\n",
      "Warning message in rgdal::rawTransform(projfrom, projto, nrow(xy), xy[, 1], xy[, :\n",
      "“51 projected point(s) not finite”\n",
      "Warning message in rgdal::rawTransform(projfrom, projto, nrow(xy), xy[, 1], xy[, :\n",
      "“51 projected point(s) not finite”\n",
      "Warning message in rgdal::rawTransform(projfrom, projto, nrow(xy), xy[, 1], xy[, :\n",
      "“51 projected point(s) not finite”\n",
      "Warning message in rgdal::rawTransform(projfrom, projto, nrow(xy), xy[, 1], xy[, :\n",
      "“51 projected point(s) not finite”\n",
      "Warning message in rgdal::rawTransform(projfrom, projto, nrow(xy), xy[, 1], xy[, :\n",
      "“51 projected point(s) not finite”\n",
      "Warning message in rgdal::rawTransform(projfrom, projto, nrow(xy), xy[, 1], xy[, :\n",
      "“51 projected point(s) not finite”\n",
      "Warning message in rgdal::rawTransform(projfrom, projto, nrow(xy), xy[, 1], xy[, :\n",
      "“51 projected point(s) not finite”\n",
      "Warning message in rgdal::rawTransform(projfrom, projto, nrow(xy), xy[, 1], xy[, :\n",
      "“51 projected point(s) not finite”\n",
      "Warning message in rgdal::rawTransform(projfrom, projto, nrow(xy), xy[, 1], xy[, :\n",
      "“51 projected point(s) not finite”\n"
     ]
    },
    {
     "name": "stdout",
     "output_type": "stream",
     "text": [
      "894.467 sec elapsed\n"
     ]
    }
   ],
   "source": [
    "tic()\n",
    "current_agg_high <- purrr::map(current_rast_list, ~resample_equal_area(.x, km = res_list$high))\n",
    "toc()\n",
    "# write rasters to file\n",
    "invisible(purrr::map(current_agg_high, ~write_raster(.x, prefix = \"current_high\")))"
   ]
  },
  {
   "cell_type": "markdown",
   "metadata": {},
   "source": [
    "#### 193 km (Medium) Resolution"
   ]
  },
  {
   "cell_type": "code",
   "execution_count": 95,
   "metadata": {},
   "outputs": [
    {
     "name": "stderr",
     "output_type": "stream",
     "text": [
      "Warning message in rgdal::rawTransform(projfrom, projto, nrow(xy), xy[, 1], xy[, :\n",
      "“51 projected point(s) not finite”\n",
      "Warning message in rgdal::rawTransform(projfrom, projto, nrow(xy), xy[, 1], xy[, :\n",
      "“51 projected point(s) not finite”\n",
      "Warning message in rgdal::rawTransform(projfrom, projto, nrow(xy), xy[, 1], xy[, :\n",
      "“51 projected point(s) not finite”\n",
      "Warning message in rgdal::rawTransform(projfrom, projto, nrow(xy), xy[, 1], xy[, :\n",
      "“51 projected point(s) not finite”\n",
      "Warning message in rgdal::rawTransform(projfrom, projto, nrow(xy), xy[, 1], xy[, :\n",
      "“51 projected point(s) not finite”\n",
      "Warning message in rgdal::rawTransform(projfrom, projto, nrow(xy), xy[, 1], xy[, :\n",
      "“51 projected point(s) not finite”\n",
      "Warning message in rgdal::rawTransform(projfrom, projto, nrow(xy), xy[, 1], xy[, :\n",
      "“51 projected point(s) not finite”\n",
      "Warning message in rgdal::rawTransform(projfrom, projto, nrow(xy), xy[, 1], xy[, :\n",
      "“51 projected point(s) not finite”\n",
      "Warning message in rgdal::rawTransform(projfrom, projto, nrow(xy), xy[, 1], xy[, :\n",
      "“51 projected point(s) not finite”\n",
      "Warning message in rgdal::rawTransform(projfrom, projto, nrow(xy), xy[, 1], xy[, :\n",
      "“51 projected point(s) not finite”\n",
      "Warning message in rgdal::rawTransform(projfrom, projto, nrow(xy), xy[, 1], xy[, :\n",
      "“51 projected point(s) not finite”\n",
      "Warning message in rgdal::rawTransform(projfrom, projto, nrow(xy), xy[, 1], xy[, :\n",
      "“51 projected point(s) not finite”\n",
      "Warning message in rgdal::rawTransform(projfrom, projto, nrow(xy), xy[, 1], xy[, :\n",
      "“51 projected point(s) not finite”\n",
      "Warning message in rgdal::rawTransform(projfrom, projto, nrow(xy), xy[, 1], xy[, :\n",
      "“51 projected point(s) not finite”\n",
      "Warning message in rgdal::rawTransform(projfrom, projto, nrow(xy), xy[, 1], xy[, :\n",
      "“51 projected point(s) not finite”\n",
      "Warning message in rgdal::rawTransform(projfrom, projto, nrow(xy), xy[, 1], xy[, :\n",
      "“51 projected point(s) not finite”\n",
      "Warning message in rgdal::rawTransform(projfrom, projto, nrow(xy), xy[, 1], xy[, :\n",
      "“51 projected point(s) not finite”\n",
      "Warning message in rgdal::rawTransform(projfrom, projto, nrow(xy), xy[, 1], xy[, :\n",
      "“51 projected point(s) not finite”\n",
      "Warning message in rgdal::rawTransform(projfrom, projto, nrow(xy), xy[, 1], xy[, :\n",
      "“51 projected point(s) not finite”\n",
      "Warning message in rgdal::rawTransform(projfrom, projto, nrow(xy), xy[, 1], xy[, :\n",
      "“51 projected point(s) not finite”\n",
      "Warning message in rgdal::rawTransform(projfrom, projto, nrow(xy), xy[, 1], xy[, :\n",
      "“51 projected point(s) not finite”\n",
      "Warning message in rgdal::rawTransform(projfrom, projto, nrow(xy), xy[, 1], xy[, :\n",
      "“51 projected point(s) not finite”\n",
      "Warning message in rgdal::rawTransform(projfrom, projto, nrow(xy), xy[, 1], xy[, :\n",
      "“51 projected point(s) not finite”\n",
      "Warning message in rgdal::rawTransform(projfrom, projto, nrow(xy), xy[, 1], xy[, :\n",
      "“51 projected point(s) not finite”\n",
      "Warning message in rgdal::rawTransform(projfrom, projto, nrow(xy), xy[, 1], xy[, :\n",
      "“51 projected point(s) not finite”\n",
      "Warning message in rgdal::rawTransform(projfrom, projto, nrow(xy), xy[, 1], xy[, :\n",
      "“51 projected point(s) not finite”\n",
      "Warning message in rgdal::rawTransform(projfrom, projto, nrow(xy), xy[, 1], xy[, :\n",
      "“51 projected point(s) not finite”\n",
      "Warning message in rgdal::rawTransform(projfrom, projto, nrow(xy), xy[, 1], xy[, :\n",
      "“51 projected point(s) not finite”\n",
      "Warning message in rgdal::rawTransform(projfrom, projto, nrow(xy), xy[, 1], xy[, :\n",
      "“51 projected point(s) not finite”\n",
      "Warning message in rgdal::rawTransform(projfrom, projto, nrow(xy), xy[, 1], xy[, :\n",
      "“51 projected point(s) not finite”\n",
      "Warning message in rgdal::rawTransform(projfrom, projto, nrow(xy), xy[, 1], xy[, :\n",
      "“51 projected point(s) not finite”\n",
      "Warning message in rgdal::rawTransform(projfrom, projto, nrow(xy), xy[, 1], xy[, :\n",
      "“51 projected point(s) not finite”\n",
      "Warning message in rgdal::rawTransform(projfrom, projto, nrow(xy), xy[, 1], xy[, :\n",
      "“51 projected point(s) not finite”\n",
      "Warning message in rgdal::rawTransform(projfrom, projto, nrow(xy), xy[, 1], xy[, :\n",
      "“51 projected point(s) not finite”\n",
      "Warning message in rgdal::rawTransform(projfrom, projto, nrow(xy), xy[, 1], xy[, :\n",
      "“51 projected point(s) not finite”\n",
      "Warning message in rgdal::rawTransform(projfrom, projto, nrow(xy), xy[, 1], xy[, :\n",
      "“51 projected point(s) not finite”\n",
      "Warning message in rgdal::rawTransform(projfrom, projto, nrow(xy), xy[, 1], xy[, :\n",
      "“51 projected point(s) not finite”\n",
      "Warning message in rgdal::rawTransform(projfrom, projto, nrow(xy), xy[, 1], xy[, :\n",
      "“51 projected point(s) not finite”\n"
     ]
    },
    {
     "name": "stdout",
     "output_type": "stream",
     "text": [
      "840.896 sec elapsed\n"
     ]
    }
   ],
   "source": [
    "tic()\n",
    "current_agg_medium <- purrr::map(current_rast_list, ~resample_equal_area(.x, km = res_list$medium))\n",
    "toc()\n",
    "# write rasters to file\n",
    "invisible(purrr::map(current_agg_medium, ~write_raster(.x, prefix = \"current_medium\")))"
   ]
  },
  {
   "cell_type": "markdown",
   "metadata": {},
   "source": [
    "## Late Holocene climate\n",
    "(4.2-0.3 ka)\n",
    "\n",
    "From [paleoclim.org](paleoclim.org). 2.5 arcmin resolution. Only using BIO1 (average annual temp) and BIO12 (average annual precipitation) for stability estimation."
   ]
  },
  {
   "cell_type": "code",
   "execution_count": 4,
   "metadata": {},
   "outputs": [],
   "source": [
    "lh_path <- dir(here(\"data\", \"climate_raw\", \"late-holocene_bioclim\"), pattern = \"*.tif$\", full.names = TRUE)\n",
    "lh_rast_list <- purrr::map(lh_path, raster)"
   ]
  },
  {
   "cell_type": "markdown",
   "metadata": {},
   "source": [
    "#### 96.5 km (high) resolution"
   ]
  },
  {
   "cell_type": "code",
   "execution_count": 7,
   "metadata": {},
   "outputs": [
    {
     "name": "stderr",
     "output_type": "stream",
     "text": [
      "Warning message in rgdal::rawTransform(projfrom, projto, nrow(xy), xy[, 1], xy[, :\n",
      "“51 projected point(s) not finite”\n",
      "Warning message in rgdal::rawTransform(projfrom, projto, nrow(xy), xy[, 1], xy[, :\n",
      "“51 projected point(s) not finite”\n",
      "Warning message in rgdal::rawTransform(projfrom, projto, nrow(xy), xy[, 1], xy[, :\n",
      "“51 projected point(s) not finite”\n",
      "Warning message in rgdal::rawTransform(projfrom, projto, nrow(xy), xy[, 1], xy[, :\n",
      "“51 projected point(s) not finite”\n"
     ]
    },
    {
     "name": "stdout",
     "output_type": "stream",
     "text": [
      "95.612 sec elapsed\n"
     ]
    }
   ],
   "source": [
    "tic()\n",
    "lh_agg_high <- purrr::map(lh_rast_list, ~resample_equal_area(.x, km = res_list$high))\n",
    "toc()\n",
    "# write rasters to file\n",
    "invisible(purrr::map(lh_agg_high, ~write_raster(.x, prefix = \"lh_high\")))"
   ]
  },
  {
   "cell_type": "markdown",
   "metadata": {},
   "source": [
    "#### 193 km (medium) resolution"
   ]
  },
  {
   "cell_type": "code",
   "execution_count": 8,
   "metadata": {},
   "outputs": [
    {
     "name": "stderr",
     "output_type": "stream",
     "text": [
      "Warning message in rgdal::rawTransform(projfrom, projto, nrow(xy), xy[, 1], xy[, :\n",
      "“51 projected point(s) not finite”\n",
      "Warning message in rgdal::rawTransform(projfrom, projto, nrow(xy), xy[, 1], xy[, :\n",
      "“51 projected point(s) not finite”\n",
      "Warning message in rgdal::rawTransform(projfrom, projto, nrow(xy), xy[, 1], xy[, :\n",
      "“51 projected point(s) not finite”\n",
      "Warning message in rgdal::rawTransform(projfrom, projto, nrow(xy), xy[, 1], xy[, :\n",
      "“51 projected point(s) not finite”\n"
     ]
    },
    {
     "name": "stdout",
     "output_type": "stream",
     "text": [
      "94.817 sec elapsed\n"
     ]
    }
   ],
   "source": [
    "tic()\n",
    "lh_agg_medium <- purrr::map(lh_rast_list, ~resample_equal_area(.x, km = res_list$medium))\n",
    "toc()\n",
    "# write rasters to file\n",
    "invisible(purrr::map(lh_agg_medium, ~write_raster(.x, prefix = \"lh_medium\")))"
   ]
  },
  {
   "cell_type": "markdown",
   "metadata": {},
   "source": [
    "## Mid Holocene climate\n",
    "\n",
    "(8.326-4.2 ka)\n",
    "\n",
    "From [paleoclim.org](paleoclim.org). 2.5 arcmin resolution. Only using BIO1 (average annual temp) and BIO12 (average annual precipitation) for stability estimation."
   ]
  },
  {
   "cell_type": "code",
   "execution_count": 9,
   "metadata": {},
   "outputs": [],
   "source": [
    "mh_path <- dir(here(\"data\", \"climate_raw\", \"mid-holocene_bioclim\"), pattern = \"*.tif$\", full.names = TRUE)\n",
    "mh_rast_list <- purrr::map(mh_path, raster)"
   ]
  },
  {
   "cell_type": "markdown",
   "metadata": {},
   "source": [
    "#### 96.5 km (high) resolution"
   ]
  },
  {
   "cell_type": "code",
   "execution_count": 10,
   "metadata": {},
   "outputs": [
    {
     "name": "stdout",
     "output_type": "stream",
     "text": [
      "93.949 sec elapsed\n"
     ]
    }
   ],
   "source": [
    "tic()\n",
    "mh_agg_high <- purrr::map(mh_rast_list, ~resample_equal_area(.x, km = res_list$high))\n",
    "toc()\n",
    "# write rasters to file\n",
    "invisible(purrr::map(mh_agg_high, ~write_raster(.x, prefix = \"mh_high\")))"
   ]
  },
  {
   "cell_type": "markdown",
   "metadata": {},
   "source": [
    "#### 193 km (medium) resolution"
   ]
  },
  {
   "cell_type": "code",
   "execution_count": 11,
   "metadata": {},
   "outputs": [
    {
     "name": "stdout",
     "output_type": "stream",
     "text": [
      "93.293 sec elapsed\n"
     ]
    }
   ],
   "source": [
    "tic()\n",
    "mh_agg_medium <- purrr::map(mh_rast_list, ~resample_equal_area(.x, km = res_list$medium))\n",
    "toc()\n",
    "# write rasters to file\n",
    "invisible(purrr::map(mh_agg_medium, ~write_raster(.x, prefix = \"mh_medium\")))"
   ]
  },
  {
   "cell_type": "markdown",
   "metadata": {},
   "source": [
    "## Early Holocene climate\n",
    "\n",
    "(11.7-8.326 ka)\n",
    "\n",
    "From [paleoclim.org](paleoclim.org). 2.5 arcmin resolution. Only using BIO1 (average annual temp) and BIO12 (average annual precipitation) for stability estimation."
   ]
  },
  {
   "cell_type": "code",
   "execution_count": 12,
   "metadata": {},
   "outputs": [],
   "source": [
    "eh_path <- dir(here(\"data\", \"climate_raw\", \"early-holocene_bioclim\"), pattern = \"*.tif$\", full.names = TRUE)\n",
    "eh_rast_list <- purrr::map(eh_path, raster)"
   ]
  },
  {
   "cell_type": "markdown",
   "metadata": {},
   "source": [
    "#### 96.5 km (high) resolution"
   ]
  },
  {
   "cell_type": "code",
   "execution_count": 13,
   "metadata": {},
   "outputs": [
    {
     "name": "stdout",
     "output_type": "stream",
     "text": [
      "93.762 sec elapsed\n"
     ]
    }
   ],
   "source": [
    "tic()\n",
    "eh_agg_high <- purrr::map(eh_rast_list, ~resample_equal_area(.x, km = res_list$high))\n",
    "toc()\n",
    "# write rasters to file\n",
    "invisible(purrr::map(eh_agg_high, ~write_raster(.x, prefix = \"eh_high\")))"
   ]
  },
  {
   "cell_type": "markdown",
   "metadata": {},
   "source": [
    "#### 193 km (medium) resolution"
   ]
  },
  {
   "cell_type": "code",
   "execution_count": 14,
   "metadata": {},
   "outputs": [
    {
     "name": "stdout",
     "output_type": "stream",
     "text": [
      "93.244 sec elapsed\n"
     ]
    }
   ],
   "source": [
    "tic()\n",
    "eh_agg_medium <- purrr::map(eh_rast_list, ~resample_equal_area(.x, km = res_list$medium))\n",
    "toc()\n",
    "# write rasters to file\n",
    "invisible(purrr::map(eh_agg_medium, ~write_raster(.x, prefix = \"eh_medium\")))"
   ]
  },
  {
   "cell_type": "markdown",
   "metadata": {},
   "source": [
    "## Younger Dryas Stadial climate\n",
    "\n",
    "(12.9-11.7 ka)\n",
    "\n",
    "From [paleoclim.org](paleoclim.org). 2.5 arcmin resolution. Only using BIO1 (average annual temp) and BIO12 (average annual precipitation) for stability estimation."
   ]
  },
  {
   "cell_type": "code",
   "execution_count": 15,
   "metadata": {},
   "outputs": [],
   "source": [
    "yds_path <- dir(here(\"data\", \"climate_raw\", \"younger-dryas_bioclim\"), pattern = \"*.tif$\", full.names = TRUE)\n",
    "yds_rast_list <- purrr::map(yds_path, raster)"
   ]
  },
  {
   "cell_type": "markdown",
   "metadata": {},
   "source": [
    "#### 96.5 km (high) resolution"
   ]
  },
  {
   "cell_type": "code",
   "execution_count": 16,
   "metadata": {},
   "outputs": [
    {
     "name": "stdout",
     "output_type": "stream",
     "text": [
      "93.859 sec elapsed\n"
     ]
    }
   ],
   "source": [
    "tic()\n",
    "yds_agg_high <- purrr::map(yds_rast_list, ~resample_equal_area(.x, km = res_list$high))\n",
    "toc()\n",
    "# write rasters to file\n",
    "invisible(purrr::map(yds_agg_high, ~write_raster(.x, prefix = \"yds_high\")))"
   ]
  },
  {
   "cell_type": "markdown",
   "metadata": {},
   "source": [
    "#### 193 km (medium) resolution"
   ]
  },
  {
   "cell_type": "code",
   "execution_count": 17,
   "metadata": {},
   "outputs": [
    {
     "name": "stdout",
     "output_type": "stream",
     "text": [
      "93.253 sec elapsed\n"
     ]
    }
   ],
   "source": [
    "tic()\n",
    "yds_agg_medium <- purrr::map(mh_rast_list, ~resample_equal_area(.x, km = res_list$medium))\n",
    "toc()\n",
    "# write rasters to file\n",
    "invisible(purrr::map(yds_agg_medium, ~write_raster(.x, prefix = \"yds_medium\")))"
   ]
  },
  {
   "cell_type": "markdown",
   "metadata": {},
   "source": [
    "## Bølling-Allerød climate\n",
    "\n",
    "(14.7-12.9 ka)\n",
    "\n",
    "From [paleoclim.org](paleoclim.org). 2.5 arcmin resolution. Only using BIO1 (average annual temp) and BIO12 (average annual precipitation) for stability estimation."
   ]
  },
  {
   "cell_type": "code",
   "execution_count": 18,
   "metadata": {},
   "outputs": [],
   "source": [
    "ba_path <- dir(here(\"data\", \"climate_raw\", \"bolling-allerod_bioclim\"), pattern = \"*.tif$\", full.names = TRUE)\n",
    "ba_rast_list <- purrr::map(ba_path, raster)"
   ]
  },
  {
   "cell_type": "markdown",
   "metadata": {},
   "source": [
    "#### 96.5 km (high) resolution"
   ]
  },
  {
   "cell_type": "code",
   "execution_count": 19,
   "metadata": {},
   "outputs": [
    {
     "name": "stdout",
     "output_type": "stream",
     "text": [
      "93.505 sec elapsed\n"
     ]
    }
   ],
   "source": [
    "tic()\n",
    "ba_agg_high <- purrr::map(ba_rast_list, ~resample_equal_area(.x, km = res_list$high))\n",
    "toc()\n",
    "# write rasters to file\n",
    "invisible(purrr::map(ba_agg_high, ~write_raster(.x, prefix = \"ba_high\")))"
   ]
  },
  {
   "cell_type": "markdown",
   "metadata": {},
   "source": [
    "#### 193 km (medium) resolution"
   ]
  },
  {
   "cell_type": "code",
   "execution_count": 20,
   "metadata": {},
   "outputs": [
    {
     "name": "stdout",
     "output_type": "stream",
     "text": [
      "93.794 sec elapsed\n"
     ]
    }
   ],
   "source": [
    "tic()\n",
    "ba_agg_medium <- purrr::map(ba_rast_list, ~resample_equal_area(.x, km = res_list$medium))\n",
    "toc()\n",
    "# write rasters to file\n",
    "invisible(purrr::map(ba_agg_medium, ~write_raster(.x, prefix = \"ba_medium\")))"
   ]
  },
  {
   "cell_type": "markdown",
   "metadata": {},
   "source": [
    "## Heinrich Stadial 1 climate\n",
    "\n",
    "(17.0-14.7 ka)\n",
    "\n",
    "From [paleoclim.org](paleoclim.org). 2.5 arcmin resolution. Only using BIO1 (average annual temp) and BIO12 (average annual precipitation) for stability estimation."
   ]
  },
  {
   "cell_type": "code",
   "execution_count": 21,
   "metadata": {},
   "outputs": [],
   "source": [
    "hs_path <- dir(here(\"data\", \"climate_raw\", \"heinrich-stadial_bioclim\"), pattern = \"*.tif$\", full.names = TRUE)\n",
    "hs_rast_list <- purrr::map(hs_path, raster)"
   ]
  },
  {
   "cell_type": "markdown",
   "metadata": {},
   "source": [
    "#### 96.5 km (high) resolution"
   ]
  },
  {
   "cell_type": "code",
   "execution_count": 22,
   "metadata": {},
   "outputs": [
    {
     "name": "stdout",
     "output_type": "stream",
     "text": [
      "94.057 sec elapsed\n"
     ]
    }
   ],
   "source": [
    "tic()\n",
    "hs_agg_high <- purrr::map(hs_rast_list, ~resample_equal_area(.x, km = res_list$high))\n",
    "toc()\n",
    "# write rasters to file\n",
    "invisible(purrr::map(hs_agg_high, ~write_raster(.x, prefix = \"hs_high\")))"
   ]
  },
  {
   "cell_type": "markdown",
   "metadata": {},
   "source": [
    "#### 193 km (medium) resolution"
   ]
  },
  {
   "cell_type": "code",
   "execution_count": 23,
   "metadata": {},
   "outputs": [
    {
     "name": "stdout",
     "output_type": "stream",
     "text": [
      "93.529 sec elapsed\n"
     ]
    }
   ],
   "source": [
    "tic()\n",
    "hs_agg_medium <- purrr::map(hs_rast_list, ~resample_equal_area(.x, km = res_list$medium))\n",
    "toc()\n",
    "# write rasters to file\n",
    "invisible(purrr::map(hs_agg_medium, ~write_raster(.x, prefix = \"hs_medium\")))"
   ]
  },
  {
   "cell_type": "markdown",
   "metadata": {},
   "source": [
    "## LGM climate\n",
    "From [paleoclim.org](paleoclim.org), based on [CHELSA](http://chelsa-climate.org/last-glacial-maximum-climate/). 2.5 arcmin resolution. Only using BIO1 (average annual temp) and BIO12 (average annual precipitation) for stability estimation."
   ]
  },
  {
   "cell_type": "code",
   "execution_count": 28,
   "metadata": {},
   "outputs": [],
   "source": [
    "lgm_path <- dir(here(\"data\", \"climate_raw\", \"LGM_bioclim\"), pattern = \"*.tif$\", full.names = TRUE)\n",
    "lgm_rast_list <- purrr::map(lgm_path, raster)"
   ]
  },
  {
   "cell_type": "markdown",
   "metadata": {},
   "source": [
    "#### 96.5 km (high) resolution"
   ]
  },
  {
   "cell_type": "code",
   "execution_count": 29,
   "metadata": {},
   "outputs": [
    {
     "name": "stdout",
     "output_type": "stream",
     "text": [
      "93.601 sec elapsed\n"
     ]
    }
   ],
   "source": [
    "tic()\n",
    "lgm_agg_high <- purrr::map(lgm_rast_list, ~resample_equal_area(.x, km = res_list$high))\n",
    "toc()\n",
    "# write rasters to file\n",
    "invisible(purrr::map(lgm_agg_high, ~write_raster(.x, prefix = \"lgm_high\")))"
   ]
  },
  {
   "cell_type": "markdown",
   "metadata": {},
   "source": [
    "#### 193 km (medium) resolution"
   ]
  },
  {
   "cell_type": "code",
   "execution_count": 30,
   "metadata": {},
   "outputs": [
    {
     "name": "stdout",
     "output_type": "stream",
     "text": [
      "92.793 sec elapsed\n"
     ]
    }
   ],
   "source": [
    "tic()\n",
    "lgm_agg_medium <- purrr::map(lgm_rast_list, ~resample_equal_area(.x, km = res_list$medium))\n",
    "toc()\n",
    "# write rasters to file\n",
    "invisible(purrr::map(lgm_agg_medium, ~write_raster(.x, prefix = \"lgm_medium\")))"
   ]
  },
  {
   "cell_type": "markdown",
   "metadata": {},
   "source": [
    "## Soil\n",
    "Soil classifications from the [Harmonized world soil database](http://www.fao.org/soils-portal/soil-survey/soil-maps-and-databases/harmonized-world-soil-database-v12/en/). 30 arc-second resolution.  \n",
    " \n",
    "Citation: Fischer, G., F. Nachtergaele, S. Prieler, H.T. van Velthuizen, L. Verelst, D. Wiberg, 2008. Global Agro-ecological Zones Assessment for Agriculture (GAEZ 2008). IIASA, Laxenburg, Austria and FAO, Rome, Italy."
   ]
  },
  {
   "cell_type": "code",
   "execution_count": 5,
   "metadata": {},
   "outputs": [],
   "source": [
    "soil_path <- dir(here(\"data\", \"climate_raw\", \"HWSD_soil_classification\"), pattern = \"*.bil$\", full.names = TRUE)\n",
    "soil_rast_list <- raster(soil_path)\n",
    "crs(soil_rast_list) <- \"+proj=longlat +ellps=WGS84 +datum=WGS84 +no_defs\""
   ]
  },
  {
   "cell_type": "markdown",
   "metadata": {},
   "source": [
    "#### 96.5 km (high) resolution"
   ]
  },
  {
   "cell_type": "code",
   "execution_count": 63,
   "metadata": {},
   "outputs": [
    {
     "name": "stdout",
     "output_type": "stream",
     "text": [
      "1431.368 sec elapsed\n"
     ]
    }
   ],
   "source": [
    "tic()\n",
    "soil_agg_high <- resample_equal_area(soil_rast_list, km = res_list$high, is_categorical = TRUE)\n",
    "toc()\n",
    "# write rasters to file\n",
    "write_raster(soil_agg_high, prefix = \"soil_high\")"
   ]
  },
  {
   "cell_type": "markdown",
   "metadata": {},
   "source": [
    "#### 193 km (medium) resolution"
   ]
  },
  {
   "cell_type": "code",
   "execution_count": 6,
   "metadata": {},
   "outputs": [
    {
     "name": "stdout",
     "output_type": "stream",
     "text": [
      "2490.804 sec elapsed\n"
     ]
    }
   ],
   "source": [
    "tic()\n",
    "soil_agg_medium <- resample_equal_area(soil_rast_list, km = res_list$medium, is_categorical = TRUE)\n",
    "toc()\n",
    "# write rasters to file\n",
    "write_raster(soil_agg_medium, prefix = \"soil_medium\")"
   ]
  },
  {
   "cell_type": "markdown",
   "metadata": {},
   "source": [
    "## Terrain\n",
    "Elevation raster from [worldclim.org](worldclim.org) (based on SRTM elevation data). 2.5 arcmin resolution. I used the `raster::terrain()` function to calculate:  \n",
    "* slope\n",
    "* aspect\n",
    "* Topographic Position Index (TPI)\n",
    "* Terrain Ruggedness Index (TRI)\n",
    "* roughness\n",
    "\n",
    "The terrain calculation script is located here: `R/calc_terrain.R`"
   ]
  },
  {
   "cell_type": "code",
   "execution_count": 83,
   "metadata": {},
   "outputs": [],
   "source": [
    "terrain_path <- dir(here(\"data\", \"climate_raw\", \"terrain\"), pattern = \"*.tif$\", full.names = TRUE)\n",
    "terrain_rast_list <- purrr::map(terrain_path, raster)"
   ]
  },
  {
   "cell_type": "markdown",
   "metadata": {},
   "source": [
    "#### 96.5 km (high) resolution"
   ]
  },
  {
   "cell_type": "code",
   "execution_count": 84,
   "metadata": {},
   "outputs": [
    {
     "name": "stdout",
     "output_type": "stream",
     "text": [
      "291.247 sec elapsed\n"
     ]
    }
   ],
   "source": [
    "tic()\n",
    "terrain_agg_high <- purrr::map(terrain_rast_list, ~resample_equal_area(.x, km = res_list$high))\n",
    "toc()\n",
    "# write rasters to file\n",
    "invisible(purrr::map(terrain_agg_high, ~write_raster(.x, prefix = \"terrain_high\")))"
   ]
  },
  {
   "cell_type": "markdown",
   "metadata": {},
   "source": [
    "#### 193 km (medium) resolution"
   ]
  },
  {
   "cell_type": "code",
   "execution_count": 85,
   "metadata": {},
   "outputs": [
    {
     "name": "stdout",
     "output_type": "stream",
     "text": [
      "280.117 sec elapsed\n"
     ]
    }
   ],
   "source": [
    "tic()\n",
    "terrain_agg_medium <- purrr::map(terrain_rast_list, ~resample_equal_area(.x, km = res_list$medium))\n",
    "toc()\n",
    "# write rasters to file\n",
    "invisible(purrr::map(terrain_agg_medium, ~write_raster(.x, prefix = \"terrain_medium\")))"
   ]
  },
  {
   "cell_type": "markdown",
   "metadata": {},
   "source": [
    "## Habitat heterogeneity\n",
    "Global habitat heterogeneity measures from [earthenv.org](earthenv.org). 2.5 arcmin resolution. These are first and second-order texture indices based on the Enhanced Vegetation Index. The publication for these is [Tuanmu and Jetz 2015](http://onlinelibrary.wiley.com/doi/10.1111/geb.12365/abstract). "
   ]
  },
  {
   "cell_type": "code",
   "execution_count": 88,
   "metadata": {},
   "outputs": [],
   "source": [
    "ghh_path <- dir(here(\"data\", \"climate_raw\", \"ghh\"), pattern = \"*.tif$\", full.names = TRUE)\n",
    "ghh_rast_list <- purrr::map(ghh_path, raster)"
   ]
  },
  {
   "cell_type": "markdown",
   "metadata": {},
   "source": [
    "#### 96.5 km (high) resolution"
   ]
  },
  {
   "cell_type": "code",
   "execution_count": 89,
   "metadata": {
    "scrolled": true
   },
   "outputs": [
    {
     "name": "stdout",
     "output_type": "stream",
     "text": [
      "608.204 sec elapsed\n"
     ]
    }
   ],
   "source": [
    "tic()\n",
    "ghh_agg_high <- purrr::map(ghh_rast_list, ~resample_equal_area(.x, km = res_list$high))\n",
    "toc()\n",
    "# write rasters to file\n",
    "invisible(purrr::map(ghh_agg_high, ~write_raster(.x, prefix = \"ghh_high\")))"
   ]
  },
  {
   "cell_type": "markdown",
   "metadata": {},
   "source": [
    "#### 193 km (medium) resolution"
   ]
  },
  {
   "cell_type": "code",
   "execution_count": 94,
   "metadata": {},
   "outputs": [
    {
     "name": "stdout",
     "output_type": "stream",
     "text": [
      "571.337 sec elapsed\n"
     ]
    }
   ],
   "source": [
    "tic()\n",
    "ghh_agg_medium <- purrr::map(ghh_rast_list, ~resample_equal_area(.x, km = res_list$medium))\n",
    "toc()\n",
    "# write rasters to file\n",
    "invisible(purrr::map(ghh_agg_medium, ~write_raster(.x, prefix = \"ghh_medium\")))"
   ]
  },
  {
   "cell_type": "markdown",
   "metadata": {},
   "source": [
    "## Dynamic Habitat Indices\n",
    "Dynamic Habitat Indices from [the Sylvis Lab](http://silvis.forest.wisc.edu/data/dhis/). 30 arcsecond resolution. There are three vegetation measures: cumulative productivity (band 1), minimum productivity (band 2), and inter-annual variation of productivity (band 3). They are all based on MODIS-derived Enhanced Vegetation Indicies. The publication for this is [Hobi et al. 2017](https://doi.org/10.1016/j.rse.2017.04.018). Since the raw files are kept as a raster stack, I'm using a for loop instead of `purrr::map`."
   ]
  },
  {
   "cell_type": "code",
   "execution_count": 50,
   "metadata": {},
   "outputs": [],
   "source": [
    "dhi_path <- dir(here(\"data\", \"climate_raw\", \"dhi\"), pattern = \"*.tif$\", full.names = TRUE)\n",
    "dhi_rast_list <- stack(dhi_path)\n",
    "\n",
    "# assign reasonable names to each band\n",
    "names(dhi_rast_list) <- c(\"cum\", \"min\", \"var\")"
   ]
  },
  {
   "cell_type": "markdown",
   "metadata": {},
   "source": [
    "#### 96.5 km (high) resolution"
   ]
  },
  {
   "cell_type": "code",
   "execution_count": 51,
   "metadata": {
    "scrolled": true
   },
   "outputs": [
    {
     "name": "stdout",
     "output_type": "stream",
     "text": [
      "3669.726 sec elapsed\n"
     ]
    }
   ],
   "source": [
    "tic()\n",
    "for(i in 1:3) {\n",
    "    dhi_agg_high <- resample_equal_area(dhi_rast_list[[i]], km = res_list$high)\n",
    "    write_raster(dhi_agg_high, prefix = \"dhi_high\")\n",
    "}\n",
    "toc()"
   ]
  },
  {
   "cell_type": "markdown",
   "metadata": {},
   "source": [
    "#### 193 km (medium) resolution"
   ]
  },
  {
   "cell_type": "code",
   "execution_count": 52,
   "metadata": {},
   "outputs": [
    {
     "name": "stdout",
     "output_type": "stream",
     "text": [
      "3718.069 sec elapsed\n"
     ]
    }
   ],
   "source": [
    "tic()\n",
    "for(i in 1:3) {\n",
    "    dhi_agg_medium <- resample_equal_area(dhi_rast_list[[i]], km = res_list$medium)\n",
    "    write_raster(dhi_agg_medium, prefix = \"dhi_medium\")\n",
    "}\n",
    "toc()"
   ]
  },
  {
   "cell_type": "markdown",
   "metadata": {},
   "source": [
    "## Vascular plant phylogenetic diversity\n",
    "Predicted vascular plant species richness across the globe. This is the combined model from [Kreft and Jetz 2007]( https://doi.org/10.1073/pnas.0608361104). 110km resolution. Since the high resolution is only slightly higher resolution, I think it's okay to use bilinear interpolation to downscale. The covariates necessary to perform more complex machine learning-based downscaling have to be aggregated to 96.5 km, so the accuracy and precision gain would likely be minimal."
   ]
  },
  {
   "cell_type": "code",
   "execution_count": 45,
   "metadata": {},
   "outputs": [],
   "source": [
    "plant_path <- dir(here(\"data\", \"climate_raw\", \"plants\"), pattern = \"*.tif$\", full.names = TRUE)\n",
    "plant_rast_list <- raster(plant_path)"
   ]
  },
  {
   "cell_type": "markdown",
   "metadata": {},
   "source": [
    "#### 96.5 km (high) resolution"
   ]
  },
  {
   "cell_type": "code",
   "execution_count": 48,
   "metadata": {
    "scrolled": true
   },
   "outputs": [
    {
     "name": "stdout",
     "output_type": "stream",
     "text": [
      "0.751 sec elapsed\n"
     ]
    }
   ],
   "source": [
    "tic()\n",
    "plant_agg_high <- resample_equal_area(plant_rast_list, km = res_list$high)\n",
    "toc()\n",
    "# write rasters to file\n",
    "write_raster(plant_agg_high, prefix = \"plant_high\")"
   ]
  },
  {
   "cell_type": "markdown",
   "metadata": {},
   "source": [
    "#### 193 km (medium) resolution"
   ]
  },
  {
   "cell_type": "code",
   "execution_count": 49,
   "metadata": {},
   "outputs": [
    {
     "name": "stdout",
     "output_type": "stream",
     "text": [
      "0.302 sec elapsed\n"
     ]
    }
   ],
   "source": [
    "tic()\n",
    "plant_agg_medium <- resample_equal_area(plant_rast_list, km = res_list$medium)\n",
    "toc()\n",
    "# write rasters to file\n",
    "write_raster(plant_agg_medium, prefix = \"plant_medium\")"
   ]
  },
  {
   "cell_type": "markdown",
   "metadata": {},
   "source": [
    "## Human modification\n",
    "0-1 scaled measure of human modification of terrestrial lands across the globe. 30 arc-second resolution.\n",
    "Citation: Kennedy CM, Oakleaf JR, Theobald DM, Baruch‐Mordo S, Kiesecker J. Managing the middle: A shift in conservation priorities based on the global human modification gradient. Glob Change Biol. 2019;25:811–826. https://doi.org/10.1111/gcb.14549"
   ]
  },
  {
   "cell_type": "code",
   "execution_count": 6,
   "metadata": {},
   "outputs": [],
   "source": [
    "human_path <- dir(here(\"data\", \"climate_raw\", \"human_mod\"), pattern = \"*.tif$\", full.names = TRUE)\n",
    "human_rast_list <- raster(human_path)"
   ]
  },
  {
   "cell_type": "markdown",
   "metadata": {},
   "source": [
    "#### 96.5 km (high) resolution"
   ]
  },
  {
   "cell_type": "code",
   "execution_count": 6,
   "metadata": {
    "scrolled": true
   },
   "outputs": [
    {
     "name": "stderr",
     "output_type": "stream",
     "text": [
      "Warning message in rgdal::rawTransform(projfrom, projto, nrow(xy), xy[, 1], xy[, :\n",
      "“230 projected point(s) not finite”\n",
      "Warning message in rgdal::rawTransform(projfrom, projto, nrow(xy), xy[, 1], xy[, :\n",
      "“230 projected point(s) not finite”\n"
     ]
    },
    {
     "name": "stdout",
     "output_type": "stream",
     "text": [
      "954.678 sec elapsed\n"
     ]
    }
   ],
   "source": [
    "tic()\n",
    "human_agg_high <- resample_equal_area(human_rast_list, km = res_list$high)\n",
    "toc()\n",
    "# write rasters to file\n",
    "write_raster(human_agg_high, prefix = \"human_high\")"
   ]
  },
  {
   "cell_type": "markdown",
   "metadata": {},
   "source": [
    "#### 193 km (medium) resolution"
   ]
  },
  {
   "cell_type": "code",
   "execution_count": 7,
   "metadata": {},
   "outputs": [
    {
     "name": "stderr",
     "output_type": "stream",
     "text": [
      "Warning message in rgdal::rawTransform(projfrom, projto, nrow(xy), xy[, 1], xy[, :\n",
      "“230 projected point(s) not finite”\n",
      "Warning message in rgdal::rawTransform(projfrom, projto, nrow(xy), xy[, 1], xy[, :\n",
      "“230 projected point(s) not finite”\n"
     ]
    },
    {
     "name": "stdout",
     "output_type": "stream",
     "text": [
      "961.798 sec elapsed\n"
     ]
    }
   ],
   "source": [
    "tic()\n",
    "human_agg_medium <- resample_equal_area(human_rast_list, km = res_list$medium)\n",
    "toc()\n",
    "# write rasters to file\n",
    "write_raster(human_agg_medium, prefix = \"human_medium\")"
   ]
  },
  {
   "cell_type": "markdown",
   "metadata": {},
   "source": [
    "## Estimate climate stability since the LGM\n",
    "I am using the [climateStability R package](https://cran.r-project.org/web/packages/climateStability/index.html) to estimate climate stability since the LGM. I am summarizing the aggregated BIO1 (average annual temperature) and BIO12 (average annual precipitation) bioclim variables for the 8 time slices mentioned previously."
   ]
  },
  {
   "cell_type": "code",
   "execution_count": 45,
   "metadata": {},
   "outputs": [
    {
     "data": {
      "text/html": [
       "<style>\n",
       ".list-inline {list-style: none; margin:0; padding: 0}\n",
       ".list-inline>li {display: inline-block}\n",
       ".list-inline>li:not(:last-child)::after {content: \"\\00b7\"; padding: 0 .5ex}\n",
       "</style>\n",
       "<ol class=list-inline><li>FALSE</li><li>TRUE</li></ol>\n"
      ],
      "text/latex": [
       "\\begin{enumerate*}\n",
       "\\item FALSE\n",
       "\\item TRUE\n",
       "\\end{enumerate*}\n"
      ],
      "text/markdown": [
       "1. FALSE\n",
       "2. TRUE\n",
       "\n",
       "\n"
      ],
      "text/plain": [
       "[1] FALSE  TRUE"
      ]
     },
     "metadata": {},
     "output_type": "display_data"
    },
    {
     "data": {
      "text/html": [
       "<style>\n",
       ".list-inline {list-style: none; margin:0; padding: 0}\n",
       ".list-inline>li {display: inline-block}\n",
       ".list-inline>li:not(:last-child)::after {content: \"\\00b7\"; padding: 0 .5ex}\n",
       "</style>\n",
       "<ol class=list-inline><li>FALSE</li><li>TRUE</li></ol>\n"
      ],
      "text/latex": [
       "\\begin{enumerate*}\n",
       "\\item FALSE\n",
       "\\item TRUE\n",
       "\\end{enumerate*}\n"
      ],
      "text/markdown": [
       "1. FALSE\n",
       "2. TRUE\n",
       "\n",
       "\n"
      ],
      "text/plain": [
       "[1] FALSE  TRUE"
      ]
     },
     "metadata": {},
     "output_type": "display_data"
    },
    {
     "data": {
      "text/html": [
       "<style>\n",
       ".list-inline {list-style: none; margin:0; padding: 0}\n",
       ".list-inline>li {display: inline-block}\n",
       ".list-inline>li:not(:last-child)::after {content: \"\\00b7\"; padding: 0 .5ex}\n",
       "</style>\n",
       "<ol class=list-inline><li>FALSE</li><li>TRUE</li></ol>\n"
      ],
      "text/latex": [
       "\\begin{enumerate*}\n",
       "\\item FALSE\n",
       "\\item TRUE\n",
       "\\end{enumerate*}\n"
      ],
      "text/markdown": [
       "1. FALSE\n",
       "2. TRUE\n",
       "\n",
       "\n"
      ],
      "text/plain": [
       "[1] FALSE  TRUE"
      ]
     },
     "metadata": {},
     "output_type": "display_data"
    },
    {
     "data": {
      "text/html": [
       "<style>\n",
       ".list-inline {list-style: none; margin:0; padding: 0}\n",
       ".list-inline>li {display: inline-block}\n",
       ".list-inline>li:not(:last-child)::after {content: \"\\00b7\"; padding: 0 .5ex}\n",
       "</style>\n",
       "<ol class=list-inline><li>FALSE</li><li>TRUE</li></ol>\n"
      ],
      "text/latex": [
       "\\begin{enumerate*}\n",
       "\\item FALSE\n",
       "\\item TRUE\n",
       "\\end{enumerate*}\n"
      ],
      "text/markdown": [
       "1. FALSE\n",
       "2. TRUE\n",
       "\n",
       "\n"
      ],
      "text/plain": [
       "[1] FALSE  TRUE"
      ]
     },
     "metadata": {},
     "output_type": "display_data"
    }
   ],
   "source": [
    "### Create subdirectories for temperature and stability rasters I'm going to estimate stability with\n",
    "\n",
    "# temperature\n",
    "if (!dir.exists(here(\"data\", \"climate_agg\", \"stability_temp_high\"))) {\n",
    "    dir.create(here(\"data\", \"climate_agg\", \"stability_temp_high\"))\n",
    "}\n",
    "\n",
    "if (!dir.exists(here(\"data\", \"climate_agg\", \"stability_temp_medium\"))) {\n",
    "    dir.create(here(\"data\", \"climate_agg\", \"stability_temp_medium\"))\n",
    "}\n",
    "\n",
    "\n",
    "# precipitation\n",
    "if (!dir.exists(here(\"data\", \"climate_agg\", \"stability_precip_high\"))) {\n",
    "    dir.create(here(\"data\", \"climate_agg\", \"stability_precip_high\"))\n",
    "}\n",
    "\n",
    "if (!dir.exists(here(\"data\", \"climate_agg\", \"stability_precip_medium\"))) {\n",
    "    dir.create(here(\"data\", \"climate_agg\", \"stability_precip_medium\"))\n",
    "}\n",
    "\n",
    "# get filenames to copy\n",
    "temp_high <- list.files(here(\"data\", \"climate_agg\"), pattern = \"_high_bio_1.tif\", full.names = TRUE)\n",
    "precip_high <- list.files(here(\"data\", \"climate_agg\"), pattern = \"_high_bio_12.tif\", full.names = TRUE)\n",
    "\n",
    "temp_medium <- list.files(here(\"data\", \"climate_agg\"), pattern = \"_medium_bio_1.tif\", full.names = TRUE)\n",
    "precip_medium <- list.files(here(\"data\", \"climate_agg\"), pattern = \"_medium_bio_12.tif\", full.names = TRUE)\n",
    "\n",
    "# copy climate files to subfolders\n",
    "file.copy(temp_high, here(\"data\", \"climate_agg\", \"stability_temp_high\"))\n",
    "file.copy(precip_high, here(\"data\", \"climate_agg\", \"stability_precip_high\"))\n",
    "file.copy(temp_medium, here(\"data\", \"climate_agg\", \"stability_temp_medium\"))\n",
    "file.copy(precip_medium, here(\"data\", \"climate_agg\", \"stability_precip_medium\"))"
   ]
  },
  {
   "cell_type": "code",
   "execution_count": 46,
   "metadata": {},
   "outputs": [
    {
     "data": {
      "text/html": [
       "<style>\n",
       ".list-inline {list-style: none; margin:0; padding: 0}\n",
       ".list-inline>li {display: inline-block}\n",
       ".list-inline>li:not(:last-child)::after {content: \"\\00b7\"; padding: 0 .5ex}\n",
       "</style>\n",
       "<ol class=list-inline><li>TRUE</li><li>TRUE</li><li>TRUE</li><li>TRUE</li></ol>\n"
      ],
      "text/latex": [
       "\\begin{enumerate*}\n",
       "\\item TRUE\n",
       "\\item TRUE\n",
       "\\item TRUE\n",
       "\\item TRUE\n",
       "\\end{enumerate*}\n"
      ],
      "text/markdown": [
       "1. TRUE\n",
       "2. TRUE\n",
       "3. TRUE\n",
       "4. TRUE\n",
       "\n",
       "\n"
      ],
      "text/plain": [
       "[1] TRUE TRUE TRUE TRUE"
      ]
     },
     "metadata": {},
     "output_type": "display_data"
    }
   ],
   "source": [
    "# remove these files from climate_agg directory (except for current) so they don't get included as predictors\n",
    "temp_high_noc <- temp_high[!str_detect(temp_high, \"current\")]\n",
    "precip_high_noc <- precip_high[!str_detect(precip_high, \"current\")]\n",
    "temp_medium_noc <- temp_medium[!str_detect(temp_medium, \"current\")]\n",
    "precip_medium_noc <- precip_medium[!str_detect(precip_medium, \"current\")]\n",
    "\n",
    "all_noc <- c(temp_high_noc, precip_high_noc, temp_medium_noc, precip_medium_noc)\n",
    "file.remove(all_noc)"
   ]
  },
  {
   "cell_type": "markdown",
   "metadata": {},
   "source": [
    "I have to rename the files because the `climateStability` package needs the files to be in order when they're read in. I'm prepending numbers to each file name so they are ordered correctly when they're read in."
   ]
  },
  {
   "cell_type": "code",
   "execution_count": 55,
   "metadata": {},
   "outputs": [
    {
     "data": {
      "text/html": [
       "<ol>\n",
       "\t<li>TRUE</li>\n",
       "\t<li>TRUE</li>\n",
       "\t<li>TRUE</li>\n",
       "\t<li>TRUE</li>\n",
       "\t<li>TRUE</li>\n",
       "\t<li>TRUE</li>\n",
       "\t<li>TRUE</li>\n",
       "\t<li>TRUE</li>\n",
       "</ol>\n"
      ],
      "text/latex": [
       "\\begin{enumerate}\n",
       "\\item TRUE\n",
       "\\item TRUE\n",
       "\\item TRUE\n",
       "\\item TRUE\n",
       "\\item TRUE\n",
       "\\item TRUE\n",
       "\\item TRUE\n",
       "\\item TRUE\n",
       "\\end{enumerate}\n"
      ],
      "text/markdown": [
       "1. TRUE\n",
       "2. TRUE\n",
       "3. TRUE\n",
       "4. TRUE\n",
       "5. TRUE\n",
       "6. TRUE\n",
       "7. TRUE\n",
       "8. TRUE\n",
       "\n",
       "\n"
      ],
      "text/plain": [
       "[[1]]\n",
       "[1] TRUE\n",
       "\n",
       "[[2]]\n",
       "[1] TRUE\n",
       "\n",
       "[[3]]\n",
       "[1] TRUE\n",
       "\n",
       "[[4]]\n",
       "[1] TRUE\n",
       "\n",
       "[[5]]\n",
       "[1] TRUE\n",
       "\n",
       "[[6]]\n",
       "[1] TRUE\n",
       "\n",
       "[[7]]\n",
       "[1] TRUE\n",
       "\n",
       "[[8]]\n",
       "[1] TRUE\n"
      ]
     },
     "metadata": {},
     "output_type": "display_data"
    },
    {
     "data": {
      "text/html": [
       "<ol>\n",
       "\t<li>TRUE</li>\n",
       "\t<li>TRUE</li>\n",
       "\t<li>TRUE</li>\n",
       "\t<li>TRUE</li>\n",
       "\t<li>TRUE</li>\n",
       "\t<li>TRUE</li>\n",
       "\t<li>TRUE</li>\n",
       "\t<li>TRUE</li>\n",
       "</ol>\n"
      ],
      "text/latex": [
       "\\begin{enumerate}\n",
       "\\item TRUE\n",
       "\\item TRUE\n",
       "\\item TRUE\n",
       "\\item TRUE\n",
       "\\item TRUE\n",
       "\\item TRUE\n",
       "\\item TRUE\n",
       "\\item TRUE\n",
       "\\end{enumerate}\n"
      ],
      "text/markdown": [
       "1. TRUE\n",
       "2. TRUE\n",
       "3. TRUE\n",
       "4. TRUE\n",
       "5. TRUE\n",
       "6. TRUE\n",
       "7. TRUE\n",
       "8. TRUE\n",
       "\n",
       "\n"
      ],
      "text/plain": [
       "[[1]]\n",
       "[1] TRUE\n",
       "\n",
       "[[2]]\n",
       "[1] TRUE\n",
       "\n",
       "[[3]]\n",
       "[1] TRUE\n",
       "\n",
       "[[4]]\n",
       "[1] TRUE\n",
       "\n",
       "[[5]]\n",
       "[1] TRUE\n",
       "\n",
       "[[6]]\n",
       "[1] TRUE\n",
       "\n",
       "[[7]]\n",
       "[1] TRUE\n",
       "\n",
       "[[8]]\n",
       "[1] TRUE\n"
      ]
     },
     "metadata": {},
     "output_type": "display_data"
    },
    {
     "data": {
      "text/html": [
       "<ol>\n",
       "\t<li>TRUE</li>\n",
       "\t<li>TRUE</li>\n",
       "\t<li>TRUE</li>\n",
       "\t<li>TRUE</li>\n",
       "\t<li>TRUE</li>\n",
       "\t<li>TRUE</li>\n",
       "\t<li>TRUE</li>\n",
       "\t<li>TRUE</li>\n",
       "</ol>\n"
      ],
      "text/latex": [
       "\\begin{enumerate}\n",
       "\\item TRUE\n",
       "\\item TRUE\n",
       "\\item TRUE\n",
       "\\item TRUE\n",
       "\\item TRUE\n",
       "\\item TRUE\n",
       "\\item TRUE\n",
       "\\item TRUE\n",
       "\\end{enumerate}\n"
      ],
      "text/markdown": [
       "1. TRUE\n",
       "2. TRUE\n",
       "3. TRUE\n",
       "4. TRUE\n",
       "5. TRUE\n",
       "6. TRUE\n",
       "7. TRUE\n",
       "8. TRUE\n",
       "\n",
       "\n"
      ],
      "text/plain": [
       "[[1]]\n",
       "[1] TRUE\n",
       "\n",
       "[[2]]\n",
       "[1] TRUE\n",
       "\n",
       "[[3]]\n",
       "[1] TRUE\n",
       "\n",
       "[[4]]\n",
       "[1] TRUE\n",
       "\n",
       "[[5]]\n",
       "[1] TRUE\n",
       "\n",
       "[[6]]\n",
       "[1] TRUE\n",
       "\n",
       "[[7]]\n",
       "[1] TRUE\n",
       "\n",
       "[[8]]\n",
       "[1] TRUE\n"
      ]
     },
     "metadata": {},
     "output_type": "display_data"
    }
   ],
   "source": [
    "rename_files <- function(file){\n",
    "    file_base <- basename(file)\n",
    "    file_dir <- dirname(file)\n",
    "    new_name <- case_when(\n",
    "        str_detect(file_base, \"^current\") ~ file.path(file_dir, paste0(\"1_\", file_base)),\n",
    "        str_detect(file_base, \"^lh\") ~ file.path(file_dir, paste0(\"2_\", file_base)),\n",
    "        str_detect(file_base, \"^mh\") ~ file.path(file_dir, paste0(\"3_\", file_base)),\n",
    "        str_detect(file_base, \"^eh\") ~ file.path(file_dir, paste0(\"4_\", file_base)),\n",
    "        str_detect(file_base, \"^yds\") ~ file.path(file_dir, paste0(\"5_\", file_base)),\n",
    "        str_detect(file_base, \"^ba\") ~ file.path(file_dir, paste0(\"6_\", file_base)),\n",
    "        str_detect(file_base, \"^hs\") ~ file.path(file_dir, paste0(\"7_\", file_base)),\n",
    "        str_detect(file_base, \"^lgm\") ~ file.path(file_dir, paste0(\"8_\", file_base))\n",
    "    )\n",
    "    \n",
    "    file.rename(file, new_name)\n",
    "}\n",
    "\n",
    "# stability_temp_high\n",
    "purrr::map(list.files(here(\"data\", \"climate_agg\", \"stability_temp_high\"), full.names = TRUE), rename_files)\n",
    "\n",
    "# stability_precip_high\n",
    "purrr::map(list.files(here(\"data\", \"climate_agg\", \"stability_precip_high\"), full.names = TRUE), rename_files)\n",
    "\n",
    "# stability_temp_medium\n",
    "purrr::map(list.files(here(\"data\", \"climate_agg\", \"stability_temp_medium\"), full.names = TRUE), rename_files)\n",
    "\n",
    "# stability_precip_medium\n",
    "purrr::map(list.files(here(\"data\", \"climate_agg\", \"stability_precip_medium\"), full.names = TRUE), rename_files)\n"
   ]
  },
  {
   "cell_type": "markdown",
   "metadata": {},
   "source": [
    "Now I have to convert each raster to a `.asc` file for `climateStability` to use. I'm moving the `.tif` files to another folder just in case I find out later the conversion botched the files. They're small (~100-120 kB), so it's not a major cost to have duplicates."
   ]
  },
  {
   "cell_type": "code",
   "execution_count": 61,
   "metadata": {},
   "outputs": [
    {
     "data": {
      "text/plain": [
       "[[1]]\n",
       "class      : RasterLayer \n",
       "dimensions : 151, 360, 54360  (nrow, ncol, ncell)\n",
       "resolution : 96500, 96500  (x, y)\n",
       "extent     : -17367530, 17372470, -7274787, 7296713  (xmin, xmax, ymin, ymax)\n",
       "crs        : NA \n",
       "source     : /Users/labuser/Desktop/connorfrench/bigass-phylogeography/BigAss-phylogeography/data/climate_agg/stability_temp_high/1_current_high_bio_1.asc \n",
       "names      : X1_current_high_bio_1 \n",
       "\n",
       "\n",
       "[[2]]\n",
       "class      : RasterLayer \n",
       "dimensions : 151, 360, 54360  (nrow, ncol, ncell)\n",
       "resolution : 96500, 96500  (x, y)\n",
       "extent     : -17367530, 17372470, -7274787, 7296713  (xmin, xmax, ymin, ymax)\n",
       "crs        : NA \n",
       "source     : /Users/labuser/Desktop/connorfrench/bigass-phylogeography/BigAss-phylogeography/data/climate_agg/stability_temp_high/2_lh_high_bio_1.asc \n",
       "names      : X2_lh_high_bio_1 \n",
       "\n",
       "\n",
       "[[3]]\n",
       "class      : RasterLayer \n",
       "dimensions : 151, 360, 54360  (nrow, ncol, ncell)\n",
       "resolution : 96500, 96500  (x, y)\n",
       "extent     : -17367530, 17372470, -7274787, 7296713  (xmin, xmax, ymin, ymax)\n",
       "crs        : NA \n",
       "source     : /Users/labuser/Desktop/connorfrench/bigass-phylogeography/BigAss-phylogeography/data/climate_agg/stability_temp_high/3_mh_high_bio_1.asc \n",
       "names      : X3_mh_high_bio_1 \n",
       "\n",
       "\n",
       "[[4]]\n",
       "class      : RasterLayer \n",
       "dimensions : 151, 360, 54360  (nrow, ncol, ncell)\n",
       "resolution : 96500, 96500  (x, y)\n",
       "extent     : -17367530, 17372470, -7274787, 7296713  (xmin, xmax, ymin, ymax)\n",
       "crs        : NA \n",
       "source     : /Users/labuser/Desktop/connorfrench/bigass-phylogeography/BigAss-phylogeography/data/climate_agg/stability_temp_high/4_eh_high_bio_1.asc \n",
       "names      : X4_eh_high_bio_1 \n",
       "\n",
       "\n",
       "[[5]]\n",
       "class      : RasterLayer \n",
       "dimensions : 151, 360, 54360  (nrow, ncol, ncell)\n",
       "resolution : 96500, 96500  (x, y)\n",
       "extent     : -17367530, 17372470, -7274787, 7296713  (xmin, xmax, ymin, ymax)\n",
       "crs        : NA \n",
       "source     : /Users/labuser/Desktop/connorfrench/bigass-phylogeography/BigAss-phylogeography/data/climate_agg/stability_temp_high/5_yds_high_bio_1.asc \n",
       "names      : X5_yds_high_bio_1 \n",
       "\n",
       "\n",
       "[[6]]\n",
       "class      : RasterLayer \n",
       "dimensions : 151, 360, 54360  (nrow, ncol, ncell)\n",
       "resolution : 96500, 96500  (x, y)\n",
       "extent     : -17367530, 17372470, -7274787, 7296713  (xmin, xmax, ymin, ymax)\n",
       "crs        : NA \n",
       "source     : /Users/labuser/Desktop/connorfrench/bigass-phylogeography/BigAss-phylogeography/data/climate_agg/stability_temp_high/6_ba_high_bio_1.asc \n",
       "names      : X6_ba_high_bio_1 \n",
       "\n",
       "\n",
       "[[7]]\n",
       "class      : RasterLayer \n",
       "dimensions : 151, 360, 54360  (nrow, ncol, ncell)\n",
       "resolution : 96500, 96500  (x, y)\n",
       "extent     : -17367530, 17372470, -7274787, 7296713  (xmin, xmax, ymin, ymax)\n",
       "crs        : NA \n",
       "source     : /Users/labuser/Desktop/connorfrench/bigass-phylogeography/BigAss-phylogeography/data/climate_agg/stability_temp_high/7_hs_high_bio_1.asc \n",
       "names      : X7_hs_high_bio_1 \n",
       "\n",
       "\n",
       "[[8]]\n",
       "class      : RasterLayer \n",
       "dimensions : 151, 360, 54360  (nrow, ncol, ncell)\n",
       "resolution : 96500, 96500  (x, y)\n",
       "extent     : -17367530, 17372470, -7274787, 7296713  (xmin, xmax, ymin, ymax)\n",
       "crs        : NA \n",
       "source     : /Users/labuser/Desktop/connorfrench/bigass-phylogeography/BigAss-phylogeography/data/climate_agg/stability_temp_high/8_lgm_high_bio_1.asc \n",
       "names      : X8_lgm_high_bio_1 \n",
       "\n"
      ]
     },
     "metadata": {},
     "output_type": "display_data"
    },
    {
     "data": {
      "text/plain": [
       "[[1]]\n",
       "class      : RasterLayer \n",
       "dimensions : 151, 360, 54360  (nrow, ncol, ncell)\n",
       "resolution : 96500, 96500  (x, y)\n",
       "extent     : -17367530, 17372470, -7274787, 7296713  (xmin, xmax, ymin, ymax)\n",
       "crs        : NA \n",
       "source     : /Users/labuser/Desktop/connorfrench/bigass-phylogeography/BigAss-phylogeography/data/climate_agg/stability_precip_high/1_current_high_bio_12.asc \n",
       "names      : X1_current_high_bio_12 \n",
       "\n",
       "\n",
       "[[2]]\n",
       "class      : RasterLayer \n",
       "dimensions : 151, 360, 54360  (nrow, ncol, ncell)\n",
       "resolution : 96500, 96500  (x, y)\n",
       "extent     : -17367530, 17372470, -7274787, 7296713  (xmin, xmax, ymin, ymax)\n",
       "crs        : NA \n",
       "source     : /Users/labuser/Desktop/connorfrench/bigass-phylogeography/BigAss-phylogeography/data/climate_agg/stability_precip_high/2_lh_high_bio_12.asc \n",
       "names      : X2_lh_high_bio_12 \n",
       "\n",
       "\n",
       "[[3]]\n",
       "class      : RasterLayer \n",
       "dimensions : 151, 360, 54360  (nrow, ncol, ncell)\n",
       "resolution : 96500, 96500  (x, y)\n",
       "extent     : -17367530, 17372470, -7274787, 7296713  (xmin, xmax, ymin, ymax)\n",
       "crs        : NA \n",
       "source     : /Users/labuser/Desktop/connorfrench/bigass-phylogeography/BigAss-phylogeography/data/climate_agg/stability_precip_high/3_mh_high_bio_12.asc \n",
       "names      : X3_mh_high_bio_12 \n",
       "\n",
       "\n",
       "[[4]]\n",
       "class      : RasterLayer \n",
       "dimensions : 151, 360, 54360  (nrow, ncol, ncell)\n",
       "resolution : 96500, 96500  (x, y)\n",
       "extent     : -17367530, 17372470, -7274787, 7296713  (xmin, xmax, ymin, ymax)\n",
       "crs        : NA \n",
       "source     : /Users/labuser/Desktop/connorfrench/bigass-phylogeography/BigAss-phylogeography/data/climate_agg/stability_precip_high/4_eh_high_bio_12.asc \n",
       "names      : X4_eh_high_bio_12 \n",
       "\n",
       "\n",
       "[[5]]\n",
       "class      : RasterLayer \n",
       "dimensions : 151, 360, 54360  (nrow, ncol, ncell)\n",
       "resolution : 96500, 96500  (x, y)\n",
       "extent     : -17367530, 17372470, -7274787, 7296713  (xmin, xmax, ymin, ymax)\n",
       "crs        : NA \n",
       "source     : /Users/labuser/Desktop/connorfrench/bigass-phylogeography/BigAss-phylogeography/data/climate_agg/stability_precip_high/5_yds_high_bio_12.asc \n",
       "names      : X5_yds_high_bio_12 \n",
       "\n",
       "\n",
       "[[6]]\n",
       "class      : RasterLayer \n",
       "dimensions : 151, 360, 54360  (nrow, ncol, ncell)\n",
       "resolution : 96500, 96500  (x, y)\n",
       "extent     : -17367530, 17372470, -7274787, 7296713  (xmin, xmax, ymin, ymax)\n",
       "crs        : NA \n",
       "source     : /Users/labuser/Desktop/connorfrench/bigass-phylogeography/BigAss-phylogeography/data/climate_agg/stability_precip_high/6_ba_high_bio_12.asc \n",
       "names      : X6_ba_high_bio_12 \n",
       "\n",
       "\n",
       "[[7]]\n",
       "class      : RasterLayer \n",
       "dimensions : 151, 360, 54360  (nrow, ncol, ncell)\n",
       "resolution : 96500, 96500  (x, y)\n",
       "extent     : -17367530, 17372470, -7274787, 7296713  (xmin, xmax, ymin, ymax)\n",
       "crs        : NA \n",
       "source     : /Users/labuser/Desktop/connorfrench/bigass-phylogeography/BigAss-phylogeography/data/climate_agg/stability_precip_high/7_hs_high_bio_12.asc \n",
       "names      : X7_hs_high_bio_12 \n",
       "\n",
       "\n",
       "[[8]]\n",
       "class      : RasterLayer \n",
       "dimensions : 151, 360, 54360  (nrow, ncol, ncell)\n",
       "resolution : 96500, 96500  (x, y)\n",
       "extent     : -17367530, 17372470, -7274787, 7296713  (xmin, xmax, ymin, ymax)\n",
       "crs        : NA \n",
       "source     : /Users/labuser/Desktop/connorfrench/bigass-phylogeography/BigAss-phylogeography/data/climate_agg/stability_precip_high/8_lgm_high_bio_12.asc \n",
       "names      : X8_lgm_high_bio_12 \n",
       "\n"
      ]
     },
     "metadata": {},
     "output_type": "display_data"
    },
    {
     "data": {
      "text/plain": [
       "[[1]]\n",
       "class      : RasterLayer \n",
       "dimensions : 76, 180, 13680  (nrow, ncol, ncell)\n",
       "resolution : 193000, 193000  (x, y)\n",
       "extent     : -17367530, 17372470, -7371287, 7296713  (xmin, xmax, ymin, ymax)\n",
       "crs        : NA \n",
       "source     : /Users/labuser/Desktop/connorfrench/bigass-phylogeography/BigAss-phylogeography/data/climate_agg/stability_temp_medium/1_current_medium_bio_1.asc \n",
       "names      : X1_current_medium_bio_1 \n",
       "\n",
       "\n",
       "[[2]]\n",
       "class      : RasterLayer \n",
       "dimensions : 76, 180, 13680  (nrow, ncol, ncell)\n",
       "resolution : 193000, 193000  (x, y)\n",
       "extent     : -17367530, 17372470, -7371287, 7296713  (xmin, xmax, ymin, ymax)\n",
       "crs        : NA \n",
       "source     : /Users/labuser/Desktop/connorfrench/bigass-phylogeography/BigAss-phylogeography/data/climate_agg/stability_temp_medium/2_lh_medium_bio_1.asc \n",
       "names      : X2_lh_medium_bio_1 \n",
       "\n",
       "\n",
       "[[3]]\n",
       "class      : RasterLayer \n",
       "dimensions : 76, 180, 13680  (nrow, ncol, ncell)\n",
       "resolution : 193000, 193000  (x, y)\n",
       "extent     : -17367530, 17372470, -7371287, 7296713  (xmin, xmax, ymin, ymax)\n",
       "crs        : NA \n",
       "source     : /Users/labuser/Desktop/connorfrench/bigass-phylogeography/BigAss-phylogeography/data/climate_agg/stability_temp_medium/3_mh_medium_bio_1.asc \n",
       "names      : X3_mh_medium_bio_1 \n",
       "\n",
       "\n",
       "[[4]]\n",
       "class      : RasterLayer \n",
       "dimensions : 76, 180, 13680  (nrow, ncol, ncell)\n",
       "resolution : 193000, 193000  (x, y)\n",
       "extent     : -17367530, 17372470, -7371287, 7296713  (xmin, xmax, ymin, ymax)\n",
       "crs        : NA \n",
       "source     : /Users/labuser/Desktop/connorfrench/bigass-phylogeography/BigAss-phylogeography/data/climate_agg/stability_temp_medium/4_eh_medium_bio_1.asc \n",
       "names      : X4_eh_medium_bio_1 \n",
       "\n",
       "\n",
       "[[5]]\n",
       "class      : RasterLayer \n",
       "dimensions : 76, 180, 13680  (nrow, ncol, ncell)\n",
       "resolution : 193000, 193000  (x, y)\n",
       "extent     : -17367530, 17372470, -7371287, 7296713  (xmin, xmax, ymin, ymax)\n",
       "crs        : NA \n",
       "source     : /Users/labuser/Desktop/connorfrench/bigass-phylogeography/BigAss-phylogeography/data/climate_agg/stability_temp_medium/5_yds_medium_bio_1.asc \n",
       "names      : X5_yds_medium_bio_1 \n",
       "\n",
       "\n",
       "[[6]]\n",
       "class      : RasterLayer \n",
       "dimensions : 76, 180, 13680  (nrow, ncol, ncell)\n",
       "resolution : 193000, 193000  (x, y)\n",
       "extent     : -17367530, 17372470, -7371287, 7296713  (xmin, xmax, ymin, ymax)\n",
       "crs        : NA \n",
       "source     : /Users/labuser/Desktop/connorfrench/bigass-phylogeography/BigAss-phylogeography/data/climate_agg/stability_temp_medium/6_ba_medium_bio_1.asc \n",
       "names      : X6_ba_medium_bio_1 \n",
       "\n",
       "\n",
       "[[7]]\n",
       "class      : RasterLayer \n",
       "dimensions : 76, 180, 13680  (nrow, ncol, ncell)\n",
       "resolution : 193000, 193000  (x, y)\n",
       "extent     : -17367530, 17372470, -7371287, 7296713  (xmin, xmax, ymin, ymax)\n",
       "crs        : NA \n",
       "source     : /Users/labuser/Desktop/connorfrench/bigass-phylogeography/BigAss-phylogeography/data/climate_agg/stability_temp_medium/7_hs_medium_bio_1.asc \n",
       "names      : X7_hs_medium_bio_1 \n",
       "\n",
       "\n",
       "[[8]]\n",
       "class      : RasterLayer \n",
       "dimensions : 76, 180, 13680  (nrow, ncol, ncell)\n",
       "resolution : 193000, 193000  (x, y)\n",
       "extent     : -17367530, 17372470, -7371287, 7296713  (xmin, xmax, ymin, ymax)\n",
       "crs        : NA \n",
       "source     : /Users/labuser/Desktop/connorfrench/bigass-phylogeography/BigAss-phylogeography/data/climate_agg/stability_temp_medium/8_lgm_medium_bio_1.asc \n",
       "names      : X8_lgm_medium_bio_1 \n",
       "\n"
      ]
     },
     "metadata": {},
     "output_type": "display_data"
    },
    {
     "data": {
      "text/plain": [
       "[[1]]\n",
       "class      : RasterLayer \n",
       "dimensions : 76, 180, 13680  (nrow, ncol, ncell)\n",
       "resolution : 193000, 193000  (x, y)\n",
       "extent     : -17367530, 17372470, -7371287, 7296713  (xmin, xmax, ymin, ymax)\n",
       "crs        : NA \n",
       "source     : /Users/labuser/Desktop/connorfrench/bigass-phylogeography/BigAss-phylogeography/data/climate_agg/stability_precip_medium/1_current_medium_bio_12.asc \n",
       "names      : X1_current_medium_bio_12 \n",
       "\n",
       "\n",
       "[[2]]\n",
       "class      : RasterLayer \n",
       "dimensions : 76, 180, 13680  (nrow, ncol, ncell)\n",
       "resolution : 193000, 193000  (x, y)\n",
       "extent     : -17367530, 17372470, -7371287, 7296713  (xmin, xmax, ymin, ymax)\n",
       "crs        : NA \n",
       "source     : /Users/labuser/Desktop/connorfrench/bigass-phylogeography/BigAss-phylogeography/data/climate_agg/stability_precip_medium/2_lh_medium_bio_12.asc \n",
       "names      : X2_lh_medium_bio_12 \n",
       "\n",
       "\n",
       "[[3]]\n",
       "class      : RasterLayer \n",
       "dimensions : 76, 180, 13680  (nrow, ncol, ncell)\n",
       "resolution : 193000, 193000  (x, y)\n",
       "extent     : -17367530, 17372470, -7371287, 7296713  (xmin, xmax, ymin, ymax)\n",
       "crs        : NA \n",
       "source     : /Users/labuser/Desktop/connorfrench/bigass-phylogeography/BigAss-phylogeography/data/climate_agg/stability_precip_medium/3_mh_medium_bio_12.asc \n",
       "names      : X3_mh_medium_bio_12 \n",
       "\n",
       "\n",
       "[[4]]\n",
       "class      : RasterLayer \n",
       "dimensions : 76, 180, 13680  (nrow, ncol, ncell)\n",
       "resolution : 193000, 193000  (x, y)\n",
       "extent     : -17367530, 17372470, -7371287, 7296713  (xmin, xmax, ymin, ymax)\n",
       "crs        : NA \n",
       "source     : /Users/labuser/Desktop/connorfrench/bigass-phylogeography/BigAss-phylogeography/data/climate_agg/stability_precip_medium/4_eh_medium_bio_12.asc \n",
       "names      : X4_eh_medium_bio_12 \n",
       "\n",
       "\n",
       "[[5]]\n",
       "class      : RasterLayer \n",
       "dimensions : 76, 180, 13680  (nrow, ncol, ncell)\n",
       "resolution : 193000, 193000  (x, y)\n",
       "extent     : -17367530, 17372470, -7371287, 7296713  (xmin, xmax, ymin, ymax)\n",
       "crs        : NA \n",
       "source     : /Users/labuser/Desktop/connorfrench/bigass-phylogeography/BigAss-phylogeography/data/climate_agg/stability_precip_medium/5_yds_medium_bio_12.asc \n",
       "names      : X5_yds_medium_bio_12 \n",
       "\n",
       "\n",
       "[[6]]\n",
       "class      : RasterLayer \n",
       "dimensions : 76, 180, 13680  (nrow, ncol, ncell)\n",
       "resolution : 193000, 193000  (x, y)\n",
       "extent     : -17367530, 17372470, -7371287, 7296713  (xmin, xmax, ymin, ymax)\n",
       "crs        : NA \n",
       "source     : /Users/labuser/Desktop/connorfrench/bigass-phylogeography/BigAss-phylogeography/data/climate_agg/stability_precip_medium/6_ba_medium_bio_12.asc \n",
       "names      : X6_ba_medium_bio_12 \n",
       "\n",
       "\n",
       "[[7]]\n",
       "class      : RasterLayer \n",
       "dimensions : 76, 180, 13680  (nrow, ncol, ncell)\n",
       "resolution : 193000, 193000  (x, y)\n",
       "extent     : -17367530, 17372470, -7371287, 7296713  (xmin, xmax, ymin, ymax)\n",
       "crs        : NA \n",
       "source     : /Users/labuser/Desktop/connorfrench/bigass-phylogeography/BigAss-phylogeography/data/climate_agg/stability_precip_medium/7_hs_medium_bio_12.asc \n",
       "names      : X7_hs_medium_bio_12 \n",
       "\n",
       "\n",
       "[[8]]\n",
       "class      : RasterLayer \n",
       "dimensions : 76, 180, 13680  (nrow, ncol, ncell)\n",
       "resolution : 193000, 193000  (x, y)\n",
       "extent     : -17367530, 17372470, -7371287, 7296713  (xmin, xmax, ymin, ymax)\n",
       "crs        : NA \n",
       "source     : /Users/labuser/Desktop/connorfrench/bigass-phylogeography/BigAss-phylogeography/data/climate_agg/stability_precip_medium/8_lgm_medium_bio_12.asc \n",
       "names      : X8_lgm_medium_bio_12 \n",
       "\n"
      ]
     },
     "metadata": {},
     "output_type": "display_data"
    }
   ],
   "source": [
    "convert_to_asc <- function(rast) {\n",
    "    if(str_detect(rast, \".tif\")) {\n",
    "        s <- str_replace(rast, \".tif\", \".asc\")\n",
    "        r <- raster(rast)\n",
    "        writeRaster(r, s)\n",
    "    } else message(\"Already an ascii file\")    \n",
    "}\n",
    "\n",
    "# stability_temp_high\n",
    "purrr::map(list.files(here(\"data\", \"climate_agg\", \"stability_temp_high\"), full.names = TRUE), convert_to_asc)\n",
    "\n",
    "# stability_precip_high\n",
    "purrr::map(list.files(here(\"data\", \"climate_agg\", \"stability_precip_high\"), full.names = TRUE), convert_to_asc)\n",
    "\n",
    "# stability_temp_medium\n",
    "purrr::map(list.files(here(\"data\", \"climate_agg\", \"stability_temp_medium\"), full.names = TRUE), convert_to_asc)\n",
    "\n",
    "# stability_precip_medium\n",
    "purrr::map(list.files(here(\"data\", \"climate_agg\", \"stability_precip_medium\"), full.names = TRUE), convert_to_asc)\n"
   ]
  },
  {
   "cell_type": "code",
   "execution_count": 65,
   "metadata": {},
   "outputs": [
    {
     "data": {
      "text/html": [
       "<strong>$`list.files(...)`</strong> = <style>\n",
       ".list-inline {list-style: none; margin:0; padding: 0}\n",
       ".list-inline>li {display: inline-block}\n",
       ".list-inline>li:not(:last-child)::after {content: \"\\00b7\"; padding: 0 .5ex}\n",
       "</style>\n",
       "<ol class=list-inline><li>TRUE</li><li>TRUE</li><li>TRUE</li><li>TRUE</li><li>TRUE</li><li>TRUE</li><li>TRUE</li><li>TRUE</li></ol>\n"
      ],
      "text/latex": [
       "\\textbf{\\$`list.files(...)`} = \\begin{enumerate*}\n",
       "\\item TRUE\n",
       "\\item TRUE\n",
       "\\item TRUE\n",
       "\\item TRUE\n",
       "\\item TRUE\n",
       "\\item TRUE\n",
       "\\item TRUE\n",
       "\\item TRUE\n",
       "\\end{enumerate*}\n"
      ],
      "text/markdown": [
       "**$`list.files(...)`** = 1. TRUE\n",
       "2. TRUE\n",
       "3. TRUE\n",
       "4. TRUE\n",
       "5. TRUE\n",
       "6. TRUE\n",
       "7. TRUE\n",
       "8. TRUE\n",
       "\n",
       "\n"
      ],
      "text/plain": [
       "$`list.files(...)`\n",
       "[1] TRUE TRUE TRUE TRUE TRUE TRUE TRUE TRUE\n"
      ]
     },
     "metadata": {},
     "output_type": "display_data"
    },
    {
     "data": {
      "text/html": [
       "<strong>$`list.files(...)`</strong> = <style>\n",
       ".list-inline {list-style: none; margin:0; padding: 0}\n",
       ".list-inline>li {display: inline-block}\n",
       ".list-inline>li:not(:last-child)::after {content: \"\\00b7\"; padding: 0 .5ex}\n",
       "</style>\n",
       "<ol class=list-inline><li>TRUE</li><li>TRUE</li><li>TRUE</li><li>TRUE</li><li>TRUE</li><li>TRUE</li><li>TRUE</li><li>TRUE</li></ol>\n"
      ],
      "text/latex": [
       "\\textbf{\\$`list.files(...)`} = \\begin{enumerate*}\n",
       "\\item TRUE\n",
       "\\item TRUE\n",
       "\\item TRUE\n",
       "\\item TRUE\n",
       "\\item TRUE\n",
       "\\item TRUE\n",
       "\\item TRUE\n",
       "\\item TRUE\n",
       "\\end{enumerate*}\n"
      ],
      "text/markdown": [
       "**$`list.files(...)`** = 1. TRUE\n",
       "2. TRUE\n",
       "3. TRUE\n",
       "4. TRUE\n",
       "5. TRUE\n",
       "6. TRUE\n",
       "7. TRUE\n",
       "8. TRUE\n",
       "\n",
       "\n"
      ],
      "text/plain": [
       "$`list.files(...)`\n",
       "[1] TRUE TRUE TRUE TRUE TRUE TRUE TRUE TRUE\n"
      ]
     },
     "metadata": {},
     "output_type": "display_data"
    },
    {
     "data": {
      "text/html": [
       "<strong>$`list.files(...)`</strong> = <style>\n",
       ".list-inline {list-style: none; margin:0; padding: 0}\n",
       ".list-inline>li {display: inline-block}\n",
       ".list-inline>li:not(:last-child)::after {content: \"\\00b7\"; padding: 0 .5ex}\n",
       "</style>\n",
       "<ol class=list-inline><li>TRUE</li><li>TRUE</li><li>TRUE</li><li>TRUE</li><li>TRUE</li><li>TRUE</li><li>TRUE</li><li>TRUE</li></ol>\n"
      ],
      "text/latex": [
       "\\textbf{\\$`list.files(...)`} = \\begin{enumerate*}\n",
       "\\item TRUE\n",
       "\\item TRUE\n",
       "\\item TRUE\n",
       "\\item TRUE\n",
       "\\item TRUE\n",
       "\\item TRUE\n",
       "\\item TRUE\n",
       "\\item TRUE\n",
       "\\end{enumerate*}\n"
      ],
      "text/markdown": [
       "**$`list.files(...)`** = 1. TRUE\n",
       "2. TRUE\n",
       "3. TRUE\n",
       "4. TRUE\n",
       "5. TRUE\n",
       "6. TRUE\n",
       "7. TRUE\n",
       "8. TRUE\n",
       "\n",
       "\n"
      ],
      "text/plain": [
       "$`list.files(...)`\n",
       "[1] TRUE TRUE TRUE TRUE TRUE TRUE TRUE TRUE\n"
      ]
     },
     "metadata": {},
     "output_type": "display_data"
    },
    {
     "data": {
      "text/html": [
       "<strong>$`list.files(...)`</strong> = <style>\n",
       ".list-inline {list-style: none; margin:0; padding: 0}\n",
       ".list-inline>li {display: inline-block}\n",
       ".list-inline>li:not(:last-child)::after {content: \"\\00b7\"; padding: 0 .5ex}\n",
       "</style>\n",
       "<ol class=list-inline><li>TRUE</li><li>TRUE</li><li>TRUE</li><li>TRUE</li><li>TRUE</li><li>TRUE</li><li>TRUE</li><li>TRUE</li></ol>\n"
      ],
      "text/latex": [
       "\\textbf{\\$`list.files(...)`} = \\begin{enumerate*}\n",
       "\\item TRUE\n",
       "\\item TRUE\n",
       "\\item TRUE\n",
       "\\item TRUE\n",
       "\\item TRUE\n",
       "\\item TRUE\n",
       "\\item TRUE\n",
       "\\item TRUE\n",
       "\\end{enumerate*}\n"
      ],
      "text/markdown": [
       "**$`list.files(...)`** = 1. TRUE\n",
       "2. TRUE\n",
       "3. TRUE\n",
       "4. TRUE\n",
       "5. TRUE\n",
       "6. TRUE\n",
       "7. TRUE\n",
       "8. TRUE\n",
       "\n",
       "\n"
      ],
      "text/plain": [
       "$`list.files(...)`\n",
       "[1] TRUE TRUE TRUE TRUE TRUE TRUE TRUE TRUE\n"
      ]
     },
     "metadata": {},
     "output_type": "display_data"
    }
   ],
   "source": [
    "file_move <- function(from, to) {\n",
    "    file_base <- basename(from)\n",
    "    new_file <- file.path(to, file_base)\n",
    "    file.rename(from, new_file)\n",
    "}\n",
    "\n",
    "\n",
    "if(!dir.exists(here(\"data\", \"climate_agg\", \"stability_temp_high_tifs\"))) {\n",
    "    dir.create(here(\"data\", \"climate_agg\", \"stability_temp_high_tifs\"))\n",
    "}\n",
    "\n",
    "if(!dir.exists(here(\"data\", \"climate_agg\", \"stability_precip_high_tifs\"))) {\n",
    "    dir.create(here(\"data\", \"climate_agg\", \"stability_precip_high_tifs\"))\n",
    "}\n",
    "\n",
    "if(!dir.exists(here(\"data\", \"climate_agg\", \"stability_temp_medium_tifs\"))) {\n",
    "    dir.create(here(\"data\", \"climate_agg\", \"stability_temp_medium_tifs\"))\n",
    "}\n",
    "if(!dir.exists(here(\"data\", \"climate_agg\", \"stability_precip_medium_tifs\"))) {\n",
    "    dir.create(here(\"data\", \"climate_agg\", \"stability_precip_medium_tifs\"))\n",
    "}\n",
    "\n",
    "\n",
    "# stability_temp_high\n",
    "stability_temp_high_df <- expand_grid(\n",
    "    list.files(here(\"data\", \"climate_agg\", \"stability_temp_high\"), pattern = \".tif$\", full.names = TRUE),\n",
    "    here(\"data\", \"climate_agg\", \"stability_temp_high_tifs\")\n",
    ")\n",
    "purrr::map2(stability_temp_high_df[,1], \n",
    "            stability_temp_high_df[,2], \n",
    "            file_move)\n",
    "\n",
    "# stability_precip_high\n",
    "stability_precip_high_df <- expand_grid(\n",
    "    list.files(here(\"data\", \"climate_agg\", \"stability_precip_high\"), pattern = \".tif$\", full.names = TRUE),\n",
    "    here(\"data\", \"climate_agg\", \"stability_precip_high_tifs\")\n",
    ")\n",
    "\n",
    "purrr::map2(stability_precip_high_df[,1], \n",
    "            stability_precip_high_df[,2], \n",
    "            file_move)\n",
    "\n",
    "\n",
    "# stability_temp_medium\n",
    "stability_temp_medium_df <- expand_grid(\n",
    "    list.files(here(\"data\", \"climate_agg\", \"stability_temp_medium\"), pattern = \".tif$\", full.names = TRUE),\n",
    "    here(\"data\", \"climate_agg\", \"stability_temp_medium_tifs\")\n",
    ")\n",
    "\n",
    "purrr::map2(stability_temp_medium_df[,1], \n",
    "            stability_temp_medium_df[,2], \n",
    "            file_move)\n",
    "\n",
    "# stability_precip_medium\n",
    "stability_precip_medium_df <- expand_grid(\n",
    "    list.files(here(\"data\", \"climate_agg\", \"stability_precip_medium\"), pattern = \".tif$\", full.names = TRUE),\n",
    "    here(\"data\", \"climate_agg\", \"stability_precip_medium_tifs\")\n",
    ")\n",
    "\n",
    "purrr::map2(stability_precip_medium_df[,1], \n",
    "            stability_precip_medium_df[,2], \n",
    "            file_move)\n"
   ]
  },
  {
   "cell_type": "markdown",
   "metadata": {},
   "source": [
    "Estimate stability for each variable-resolution pair and rescale from 0-1. I found a bug in the `deviationThroughTime` code, where the full paths of the variable directory aren't returned (didn't include `full.paths = TRUE` argument in `list.files()`). So, I'm slightly modifying the function here to work with my code. I submitted a bug report, so hopefully it gets fixed!"
   ]
  },
  {
   "cell_type": "code",
   "execution_count": 4,
   "metadata": {},
   "outputs": [],
   "source": [
    "# originally deviationThroughTime from climateStability R package\n",
    "deviation_through_time <- function (variableDirectory, timeSlicePeriod, fileExtension = \"asc\") \n",
    "{\n",
    "    match.arg(fileExtension, c(\"grd\", \"asc\", \"sdat\", \"rst\", \"nc\", \n",
    "        \"tif\", \"envi\", \"bil\", \"img\"))\n",
    "    if (!dir.exists(variableDirectory)) {\n",
    "        stop(variableDirectory, \" is not a directory that exists.\")\n",
    "    }\n",
    "    if (!is.numeric(timeSlicePeriod)) {\n",
    "        stop(timeSlicePeriod, \" is not numeric.\")\n",
    "    }\n",
    "    # this is where I added \"full.names = TRUE\"\n",
    "    rastList <- list.files(path = variableDirectory, pattern = paste0(\".\", \n",
    "        fileExtension, \"$\"), full.names = TRUE)\n",
    "    if (length(timeSlicePeriod) != 1 && length(timeSlicePeriod) != \n",
    "        (length(rastList) - 1)) {\n",
    "        stop(\"The specified timeSlicePeriod object is not of expected length (1 or one less than the number of .asc files in variableDirectory)\")\n",
    "    }\n",
    "    varStack <- raster::stack(rastList)\n",
    "    intervalDev <- varStack[[-1]]\n",
    "    count <- 2\n",
    "    while (count <= length(rastList)) {\n",
    "        if (length(timeSlicePeriod) == 1) {\n",
    "            intervalDev[[(count - 1)]] <- raster::calc(varStack[[(count - \n",
    "                1):count]], sd)/timeSlicePeriod[[1]]\n",
    "        }\n",
    "        else {\n",
    "            intervalDev[[(count - 1)]] <- raster::calc(varStack[[(count - \n",
    "                1):count]], sd)/timeSlicePeriod[[(count - 1)]]\n",
    "        }\n",
    "        count <- count + 1\n",
    "    }\n",
    "    if (length(timeSlicePeriod) == 1) {\n",
    "        deviation <- sum(intervalDev)/(timeSlicePeriod * (length(rastList) - \n",
    "            1))\n",
    "    }\n",
    "    else {\n",
    "        deviation <- sum(intervalDev)/sum(timeSlicePeriod)\n",
    "    }\n",
    "    return(deviation)\n",
    "}"
   ]
  },
  {
   "cell_type": "code",
   "execution_count": 5,
   "metadata": {},
   "outputs": [],
   "source": [
    "### Creating temperature and precipitation stability layers\n",
    "### Using bio1 (average temp) and bio12 (average precip)\n",
    "\n",
    "# time slices are calculated as the difference between the midpoints of the two time periods the climate layers were calculated for (e.g. midpoint of LH = (4.2 ka - 0.3 ka) / 2 + 0.3 ka = 2.25, midpoint of MH = (8.326 ka - 4.2 ka) / 2 + 4.2 = 6.263. time_slice = 6.263 - 2.25 = 4.013)\n",
    "\n",
    "# c = current\n",
    "# t_lh = midpoint time for late holocene\n",
    "# t_mh = mid-Holocene\n",
    "# t_eh = early-Holocene\n",
    "# t_yds = Younger Dryas Stadial\n",
    "# t_ba = Bølling-Allerød\n",
    "# t_hs = Heinrich Stadial 1\n",
    "# t_lgm = Last Glacial Maximum\n",
    "c <- (2013 - 1979) / 2\n",
    "t_lh <- ((4.2 - 0.3) / 2 + 0.3) * 1000\n",
    "t_mh <- ((8.326 - 4.2) / 2 + 4.2) * 1000\n",
    "t_eh <- ((11.7 - 8.326) / 2 + 8.326) * 1000\n",
    "t_yds <- ((12.9 - 11.7) / 2 + 11.7) * 1000\n",
    "t_ba <- ((14.7 - 12.9) / 2 + 12.9) * 1000\n",
    "t_hs <- ((17 - 14.7) / 2 + 14.7) * 1000\n",
    "t_lgm <- 21000\n",
    "\n",
    "time_slices <- c(t_lh - c, \n",
    "                 t_mh - t_lh, \n",
    "                 t_eh - t_mh, \n",
    "                 t_yds - t_eh, \n",
    "                 t_ba - t_yds, \n",
    "                 t_hs - t_ba,\n",
    "                 t_lgm - t_hs)\n",
    "\n",
    "precip_path_high <- here(\"data\", \"climate_agg\", \"stability_precip_high\")\n",
    "temp_path_high <- here(\"data\", \"climate_agg\", \"stability_temp_high\")\n",
    "precip_path_medium <- here(\"data\", \"climate_agg\", \"stability_precip_medium\")\n",
    "temp_path_medium <- here(\"data\", \"climate_agg\", \"stability_temp_medium\")\n",
    "\n",
    "### Precip stability for high resolution ###\n",
    "precip_deviation_high <-\n",
    "  deviation_through_time(variableDirectory = precip_path_high, timeSlicePeriod = time_slices)\n",
    "precip_stability_high <- (1 / precip_deviation_high)\n",
    "precip_stability_scaled_high <- climateStability::rescale0to1(precip_stability_high)\n",
    "\n",
    "# write precipitation stability to file\n",
    "writeRaster(\n",
    "  precip_stability_scaled_high,\n",
    "  filename = file.path(here(\"data\", \"climate_agg\"), \"stability_precip_high.tif\"),\n",
    "  format = \"GTiff\",\n",
    "  overwrite = TRUE\n",
    ")\n",
    "\n",
    "\n",
    "###########################################\n",
    "\n",
    "### Temp stability for high resolution ###\n",
    "temp_deviation_high <-\n",
    "  deviation_through_time(variableDirectory = temp_path_high, timeSlicePeriod = time_slices)\n",
    "temp_stability_high <- (1 / temp_deviation_high)\n",
    "temp_stability_scaled_high <- climateStability::rescale0to1(temp_stability_high)\n",
    "\n",
    "# write precipitation stability to file\n",
    "writeRaster(\n",
    "  temp_stability_scaled_high,\n",
    "  filename = file.path(here(\"data\", \"climate_agg\"), \"stability_temp_high.tif\"),\n",
    "  format = \"GTiff\",\n",
    "  overwrite = TRUE\n",
    ")\n",
    "\n",
    "###########################################\n",
    "\n",
    "### Precip stability for medium resolution ###\n",
    "precip_deviation_medium <-\n",
    "  deviation_through_time(variableDirectory = precip_path_medium, timeSlicePeriod = time_slices)\n",
    "precip_stability_medium <- (1 / precip_deviation_medium)\n",
    "precip_stability_scaled_medium <- climateStability::rescale0to1(precip_stability_medium)\n",
    "\n",
    "# write precipitation stability to file\n",
    "writeRaster(\n",
    "  precip_stability_scaled_medium,\n",
    "  filename = file.path(here(\"data\", \"climate_agg\"), \"stability_precip_medium.tif\"),\n",
    "  format = \"GTiff\",\n",
    "  overwrite = TRUE\n",
    ")\n",
    "\n",
    "###########################################\n",
    "\n",
    "### Temp stability for medium resolution ###\n",
    "temp_deviation_medium <-\n",
    "  deviation_through_time(variableDirectory = temp_path_medium, timeSlicePeriod = time_slices)\n",
    "temp_stability_medium <- (1 / temp_deviation_medium)\n",
    "temp_stability_scaled_medium <- climateStability::rescale0to1(temp_stability_medium)\n",
    "\n",
    "# write precipitation stability to file\n",
    "writeRaster(\n",
    "  temp_stability_scaled_medium,\n",
    "  filename = file.path(here(\"data\", \"climate_agg\"), \"stability_temp_medium.tif\"),\n",
    "  format = \"GTiff\",\n",
    "  overwrite = TRUE\n",
    ")\n",
    "\n",
    "###########################################"
   ]
  },
  {
   "cell_type": "code",
   "execution_count": null,
   "metadata": {},
   "outputs": [],
   "source": []
  }
 ],
 "metadata": {
  "kernelspec": {
   "display_name": "R",
   "language": "R",
   "name": "ir"
  },
  "language_info": {
   "codemirror_mode": "r",
   "file_extension": ".r",
   "mimetype": "text/x-r-source",
   "name": "R",
   "pygments_lexer": "r",
   "version": "3.6.1"
  }
 },
 "nbformat": 4,
 "nbformat_minor": 4
}
