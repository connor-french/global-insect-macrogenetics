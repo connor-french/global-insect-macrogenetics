{
 "cells": [
  {
   "cell_type": "markdown",
   "metadata": {},
   "source": [
    "## Aggregate rasters\n",
    "This is the workflow for aggregating predictor rasters to the coarser resolutions used for analysis (96.5 km, 193 km, and 385.9 km). Note- many of these aggregations use up a lot of memory that R doesn't efficiently dump. You may need to restart R in between aggregating some rasters to free up memory."
   ]
  },
  {
   "cell_type": "code",
   "execution_count": null,
   "metadata": {},
   "outputs": [],
   "source": [
    "library(raster)\n",
    "library(rnaturalearth)\n",
    "library(here)\n",
    "library(tictoc)\n",
    "library(tidyverse)\n",
    "library(furrr)\n",
    "\n",
    "out_path <- here(\"data\", \"climate_agg\")\n",
    "res_list <- list(high = 96.5, medium = 193, low = 385.9)"
   ]
  },
  {
   "cell_type": "markdown",
   "metadata": {},
   "source": [
    "Create template rasters to resample predictors and filter genetic data with. \n",
    "\n",
    "Template resolutions:  \n",
    "* 96.5 km (1 degree at 30 deg latitude) {**template_high**}\n",
    "* 193 km (2 degrees) {**template_medium**}\n",
    "* 385.9 km (4 degrees) {**template_low**}  \n",
    "\n",
    "\n",
    "*Note that I am not aggregating predictor rasters to the low resolution. After exploring the genetic data, we determined that a low resolution is not compatible with our analyses. I'm leaving the template here because we used it to filter the genetic data*"
   ]
  },
  {
   "cell_type": "code",
   "execution_count": 5,
   "metadata": {},
   "outputs": [],
   "source": [
    "crs <- \"+proj=cea +lon_0=0 +lat_ts=30 +x_0=0 +y_0=0 +datum=WGS84 +ellps=WGS84 +units=m +no_defs\"\n",
    "\n",
    "# read in a world shape file. Might make this able to use countries as well\n",
    "world_shp <- rnaturalearth::ne_coastline(scale = \"small\")\n",
    "  \n",
    "# convert the coordinate system to behrmann\n",
    "world_shp <- sp::spTransform(world_shp, crs)\n",
    "  \n",
    "# turn it into a raster\n",
    "world_raster <- raster::raster(world_shp)\n",
    "\n",
    "\n",
    "# transform world raster to high resolution\n",
    "template_high <- world_raster\n",
    "res(template_high) <- 96500\n",
    "\n",
    "\n",
    "# transform world raster to medium resolution\n",
    "template_medium <- world_raster\n",
    "res(template_medium) <- 193000\n",
    "\n",
    "# transform world raster to low resolution\n",
    "template_low <- world_raster\n",
    "res(template_low) <- 385900\n",
    "\n",
    "# write to data/templates/ folder\n",
    "if (!file.exists(here(\"data\", \"templates\", \"template_high.tif\"))){\n",
    "    writeRaster(template_high, filename = here(\"data\", \"templates\", \"template_high.tif\"))\n",
    "}\n",
    "\n",
    "if (!file.exists(here(\"data\", \"templates\", \"template_medium.tif\"))){\n",
    "    writeRaster(template_medium, filename = here(\"data\", \"templates\", \"template_medium.tif\"))\n",
    "}\n",
    "\n",
    "if (!file.exists(here(\"data\", \"templates\", \"template_low.tif\"))){\n",
    "    writeRaster(template_medium, filename = here(\"data\", \"templates\", \"template_low.tif\"))\n",
    "}"
   ]
  },
  {
   "cell_type": "markdown",
   "metadata": {},
   "source": [
    "This function follows these steps:  \n",
    "* reproject raster to Behrmann equal-area projection\n",
    "* resample with bilinear interpolation to the coarse resolution\n",
    "\n",
    "This process is slow, but results in rasters with the precise desired resolution in km. Alternatives result in imprecise resolutions, where for example a 96.5 km resolution specification, the resolution is actually 96.48628 km or 95 km. "
   ]
  },
  {
   "cell_type": "code",
   "execution_count": 6,
   "metadata": {},
   "outputs": [],
   "source": [
    "# function to resample rasters to any equal area grid of the three resolutions we're considering.\n",
    "\n",
    "\n",
    "# crs: define the crs you want to project to. It must be an equal area projection. The default crs is behrmann equal area. \n",
    "# x: a raster or raster stack\n",
    "# km: km resolution you want (area will be km x km)\n",
    "# is_categorical: if is_categorical is true, using \"ngb\" interpolation\n",
    "resample_equal_area <- function(x, \n",
    "                                crs = \"+proj=cea +lon_0=0 +lat_ts=30 +x_0=0 +y_0=0 +datum=WGS84 +ellps=WGS84 +units=m +no_defs\", \n",
    "                                km,\n",
    "                                is_categorical = FALSE) {\n",
    "  \n",
    "  # project raster to new coordinate system (this has no values- we put values back in later)\n",
    "  x_ext <- raster::projectExtent(x, crs)\n",
    "  \n",
    "  # make the resolution square since we're interested in an equal area projection\n",
    "  raster::res(x_ext) <- raster::xres(x_ext)\n",
    "  \n",
    "  # add original values to our projection. We can't take shortcuts like doing this instead of doing projectExtent first because it removes cells at the extreme latitudes.\n",
    "  x_repro <- raster::projectRaster(x, x_ext)\n",
    "  \n",
    "  if (km == 96.5) {\n",
    "      end_raster = template_high\n",
    "  } else if (km == 193) {\n",
    "      end_raster = template_medium\n",
    "  } else if (km == 385.9) {\n",
    "      end_raster = template_low\n",
    "  } else stop(\"Incorrect resolution specification. Must be either 96.5 or 193\")\n",
    "  \n",
    "  # resample our raster of interest to the beginning raster  \n",
    "  if (is_categorical) {\n",
    "      m <- \"ngb\"\n",
    "  } else m <- \"bilinear\"\n",
    "  \n",
    "  \n",
    "  x_resampled <- raster::resample(x_repro, end_raster, method = m) \n",
    "\n",
    "  \n",
    "  return(x_resampled)\n",
    "}\n"
   ]
  },
  {
   "cell_type": "code",
   "execution_count": 7,
   "metadata": {},
   "outputs": [],
   "source": [
    "# function to write aggregated rasters to file, using a specified prefix for the file and layer names\n",
    "write_raster <- function (x, prefix) {\n",
    "    names(x) <- paste0(prefix, \"_\", names(x))\n",
    "    out_file <- file.path(out_path, paste0(names(x), \".tif\"))\n",
    "    writeRaster(x, filename = out_file, overwrite = TRUE)\n",
    "}"
   ]
  },
  {
   "cell_type": "markdown",
   "metadata": {},
   "source": [
    "## Current climate\n",
    "From [paleoclim.org](http://www.paleoclim.org/), based on [CHELSA](http://chelsa-climate.org/bioclim/). 2.5 arcmin resolution."
   ]
  },
  {
   "cell_type": "code",
   "execution_count": 10,
   "metadata": {},
   "outputs": [],
   "source": [
    "current_path <- dir(here(\"data\", \"climate_raw\", \"current_bioclim\"), pattern = \"*.tif$\", full.names = TRUE)\n",
    "current_rast_list <- purrr::map(current_path, raster)"
   ]
  },
  {
   "cell_type": "markdown",
   "metadata": {},
   "source": [
    "#### 96.5 km (high) resolution"
   ]
  },
  {
   "cell_type": "code",
   "execution_count": 76,
   "metadata": {},
   "outputs": [
    {
     "name": "stderr",
     "output_type": "stream",
     "text": [
      "Warning message in rgdal::rawTransform(projfrom, projto, nrow(xy), xy[, 1], xy[, :\n",
      "“51 projected point(s) not finite”\n",
      "Warning message in rgdal::rawTransform(projfrom, projto, nrow(xy), xy[, 1], xy[, :\n",
      "“51 projected point(s) not finite”\n",
      "Warning message in rgdal::rawTransform(projfrom, projto, nrow(xy), xy[, 1], xy[, :\n",
      "“51 projected point(s) not finite”\n",
      "Warning message in rgdal::rawTransform(projfrom, projto, nrow(xy), xy[, 1], xy[, :\n",
      "“51 projected point(s) not finite”\n",
      "Warning message in rgdal::rawTransform(projfrom, projto, nrow(xy), xy[, 1], xy[, :\n",
      "“51 projected point(s) not finite”\n",
      "Warning message in rgdal::rawTransform(projfrom, projto, nrow(xy), xy[, 1], xy[, :\n",
      "“51 projected point(s) not finite”\n",
      "Warning message in rgdal::rawTransform(projfrom, projto, nrow(xy), xy[, 1], xy[, :\n",
      "“51 projected point(s) not finite”\n",
      "Warning message in rgdal::rawTransform(projfrom, projto, nrow(xy), xy[, 1], xy[, :\n",
      "“51 projected point(s) not finite”\n",
      "Warning message in rgdal::rawTransform(projfrom, projto, nrow(xy), xy[, 1], xy[, :\n",
      "“51 projected point(s) not finite”\n",
      "Warning message in rgdal::rawTransform(projfrom, projto, nrow(xy), xy[, 1], xy[, :\n",
      "“51 projected point(s) not finite”\n",
      "Warning message in rgdal::rawTransform(projfrom, projto, nrow(xy), xy[, 1], xy[, :\n",
      "“51 projected point(s) not finite”\n",
      "Warning message in rgdal::rawTransform(projfrom, projto, nrow(xy), xy[, 1], xy[, :\n",
      "“51 projected point(s) not finite”\n",
      "Warning message in rgdal::rawTransform(projfrom, projto, nrow(xy), xy[, 1], xy[, :\n",
      "“51 projected point(s) not finite”\n",
      "Warning message in rgdal::rawTransform(projfrom, projto, nrow(xy), xy[, 1], xy[, :\n",
      "“51 projected point(s) not finite”\n",
      "Warning message in rgdal::rawTransform(projfrom, projto, nrow(xy), xy[, 1], xy[, :\n",
      "“51 projected point(s) not finite”\n",
      "Warning message in rgdal::rawTransform(projfrom, projto, nrow(xy), xy[, 1], xy[, :\n",
      "“51 projected point(s) not finite”\n",
      "Warning message in rgdal::rawTransform(projfrom, projto, nrow(xy), xy[, 1], xy[, :\n",
      "“51 projected point(s) not finite”\n",
      "Warning message in rgdal::rawTransform(projfrom, projto, nrow(xy), xy[, 1], xy[, :\n",
      "“51 projected point(s) not finite”\n",
      "Warning message in rgdal::rawTransform(projfrom, projto, nrow(xy), xy[, 1], xy[, :\n",
      "“51 projected point(s) not finite”\n",
      "Warning message in rgdal::rawTransform(projfrom, projto, nrow(xy), xy[, 1], xy[, :\n",
      "“51 projected point(s) not finite”\n",
      "Warning message in rgdal::rawTransform(projfrom, projto, nrow(xy), xy[, 1], xy[, :\n",
      "“51 projected point(s) not finite”\n",
      "Warning message in rgdal::rawTransform(projfrom, projto, nrow(xy), xy[, 1], xy[, :\n",
      "“51 projected point(s) not finite”\n",
      "Warning message in rgdal::rawTransform(projfrom, projto, nrow(xy), xy[, 1], xy[, :\n",
      "“51 projected point(s) not finite”\n",
      "Warning message in rgdal::rawTransform(projfrom, projto, nrow(xy), xy[, 1], xy[, :\n",
      "“51 projected point(s) not finite”\n",
      "Warning message in rgdal::rawTransform(projfrom, projto, nrow(xy), xy[, 1], xy[, :\n",
      "“51 projected point(s) not finite”\n",
      "Warning message in rgdal::rawTransform(projfrom, projto, nrow(xy), xy[, 1], xy[, :\n",
      "“51 projected point(s) not finite”\n",
      "Warning message in rgdal::rawTransform(projfrom, projto, nrow(xy), xy[, 1], xy[, :\n",
      "“51 projected point(s) not finite”\n",
      "Warning message in rgdal::rawTransform(projfrom, projto, nrow(xy), xy[, 1], xy[, :\n",
      "“51 projected point(s) not finite”\n",
      "Warning message in rgdal::rawTransform(projfrom, projto, nrow(xy), xy[, 1], xy[, :\n",
      "“51 projected point(s) not finite”\n",
      "Warning message in rgdal::rawTransform(projfrom, projto, nrow(xy), xy[, 1], xy[, :\n",
      "“51 projected point(s) not finite”\n",
      "Warning message in rgdal::rawTransform(projfrom, projto, nrow(xy), xy[, 1], xy[, :\n",
      "“51 projected point(s) not finite”\n",
      "Warning message in rgdal::rawTransform(projfrom, projto, nrow(xy), xy[, 1], xy[, :\n",
      "“51 projected point(s) not finite”\n",
      "Warning message in rgdal::rawTransform(projfrom, projto, nrow(xy), xy[, 1], xy[, :\n",
      "“51 projected point(s) not finite”\n",
      "Warning message in rgdal::rawTransform(projfrom, projto, nrow(xy), xy[, 1], xy[, :\n",
      "“51 projected point(s) not finite”\n",
      "Warning message in rgdal::rawTransform(projfrom, projto, nrow(xy), xy[, 1], xy[, :\n",
      "“51 projected point(s) not finite”\n",
      "Warning message in rgdal::rawTransform(projfrom, projto, nrow(xy), xy[, 1], xy[, :\n",
      "“51 projected point(s) not finite”\n",
      "Warning message in rgdal::rawTransform(projfrom, projto, nrow(xy), xy[, 1], xy[, :\n",
      "“51 projected point(s) not finite”\n",
      "Warning message in rgdal::rawTransform(projfrom, projto, nrow(xy), xy[, 1], xy[, :\n",
      "“51 projected point(s) not finite”\n"
     ]
    },
    {
     "name": "stdout",
     "output_type": "stream",
     "text": [
      "894.467 sec elapsed\n"
     ]
    }
   ],
   "source": [
    "tic()\n",
    "current_agg_high <- purrr::map(current_rast_list, ~resample_equal_area(.x, km = res_list$high))\n",
    "toc()\n",
    "# write rasters to file\n",
    "invisible(purrr::map(current_agg_high, ~write_raster(.x, prefix = \"current_high\")))"
   ]
  },
  {
   "cell_type": "markdown",
   "metadata": {},
   "source": [
    "#### 193 km (Medium) Resolution"
   ]
  },
  {
   "cell_type": "code",
   "execution_count": 95,
   "metadata": {},
   "outputs": [
    {
     "name": "stderr",
     "output_type": "stream",
     "text": [
      "Warning message in rgdal::rawTransform(projfrom, projto, nrow(xy), xy[, 1], xy[, :\n",
      "“51 projected point(s) not finite”\n",
      "Warning message in rgdal::rawTransform(projfrom, projto, nrow(xy), xy[, 1], xy[, :\n",
      "“51 projected point(s) not finite”\n",
      "Warning message in rgdal::rawTransform(projfrom, projto, nrow(xy), xy[, 1], xy[, :\n",
      "“51 projected point(s) not finite”\n",
      "Warning message in rgdal::rawTransform(projfrom, projto, nrow(xy), xy[, 1], xy[, :\n",
      "“51 projected point(s) not finite”\n",
      "Warning message in rgdal::rawTransform(projfrom, projto, nrow(xy), xy[, 1], xy[, :\n",
      "“51 projected point(s) not finite”\n",
      "Warning message in rgdal::rawTransform(projfrom, projto, nrow(xy), xy[, 1], xy[, :\n",
      "“51 projected point(s) not finite”\n",
      "Warning message in rgdal::rawTransform(projfrom, projto, nrow(xy), xy[, 1], xy[, :\n",
      "“51 projected point(s) not finite”\n",
      "Warning message in rgdal::rawTransform(projfrom, projto, nrow(xy), xy[, 1], xy[, :\n",
      "“51 projected point(s) not finite”\n",
      "Warning message in rgdal::rawTransform(projfrom, projto, nrow(xy), xy[, 1], xy[, :\n",
      "“51 projected point(s) not finite”\n",
      "Warning message in rgdal::rawTransform(projfrom, projto, nrow(xy), xy[, 1], xy[, :\n",
      "“51 projected point(s) not finite”\n",
      "Warning message in rgdal::rawTransform(projfrom, projto, nrow(xy), xy[, 1], xy[, :\n",
      "“51 projected point(s) not finite”\n",
      "Warning message in rgdal::rawTransform(projfrom, projto, nrow(xy), xy[, 1], xy[, :\n",
      "“51 projected point(s) not finite”\n",
      "Warning message in rgdal::rawTransform(projfrom, projto, nrow(xy), xy[, 1], xy[, :\n",
      "“51 projected point(s) not finite”\n",
      "Warning message in rgdal::rawTransform(projfrom, projto, nrow(xy), xy[, 1], xy[, :\n",
      "“51 projected point(s) not finite”\n",
      "Warning message in rgdal::rawTransform(projfrom, projto, nrow(xy), xy[, 1], xy[, :\n",
      "“51 projected point(s) not finite”\n",
      "Warning message in rgdal::rawTransform(projfrom, projto, nrow(xy), xy[, 1], xy[, :\n",
      "“51 projected point(s) not finite”\n",
      "Warning message in rgdal::rawTransform(projfrom, projto, nrow(xy), xy[, 1], xy[, :\n",
      "“51 projected point(s) not finite”\n",
      "Warning message in rgdal::rawTransform(projfrom, projto, nrow(xy), xy[, 1], xy[, :\n",
      "“51 projected point(s) not finite”\n",
      "Warning message in rgdal::rawTransform(projfrom, projto, nrow(xy), xy[, 1], xy[, :\n",
      "“51 projected point(s) not finite”\n",
      "Warning message in rgdal::rawTransform(projfrom, projto, nrow(xy), xy[, 1], xy[, :\n",
      "“51 projected point(s) not finite”\n",
      "Warning message in rgdal::rawTransform(projfrom, projto, nrow(xy), xy[, 1], xy[, :\n",
      "“51 projected point(s) not finite”\n",
      "Warning message in rgdal::rawTransform(projfrom, projto, nrow(xy), xy[, 1], xy[, :\n",
      "“51 projected point(s) not finite”\n",
      "Warning message in rgdal::rawTransform(projfrom, projto, nrow(xy), xy[, 1], xy[, :\n",
      "“51 projected point(s) not finite”\n",
      "Warning message in rgdal::rawTransform(projfrom, projto, nrow(xy), xy[, 1], xy[, :\n",
      "“51 projected point(s) not finite”\n",
      "Warning message in rgdal::rawTransform(projfrom, projto, nrow(xy), xy[, 1], xy[, :\n",
      "“51 projected point(s) not finite”\n",
      "Warning message in rgdal::rawTransform(projfrom, projto, nrow(xy), xy[, 1], xy[, :\n",
      "“51 projected point(s) not finite”\n",
      "Warning message in rgdal::rawTransform(projfrom, projto, nrow(xy), xy[, 1], xy[, :\n",
      "“51 projected point(s) not finite”\n",
      "Warning message in rgdal::rawTransform(projfrom, projto, nrow(xy), xy[, 1], xy[, :\n",
      "“51 projected point(s) not finite”\n",
      "Warning message in rgdal::rawTransform(projfrom, projto, nrow(xy), xy[, 1], xy[, :\n",
      "“51 projected point(s) not finite”\n",
      "Warning message in rgdal::rawTransform(projfrom, projto, nrow(xy), xy[, 1], xy[, :\n",
      "“51 projected point(s) not finite”\n",
      "Warning message in rgdal::rawTransform(projfrom, projto, nrow(xy), xy[, 1], xy[, :\n",
      "“51 projected point(s) not finite”\n",
      "Warning message in rgdal::rawTransform(projfrom, projto, nrow(xy), xy[, 1], xy[, :\n",
      "“51 projected point(s) not finite”\n",
      "Warning message in rgdal::rawTransform(projfrom, projto, nrow(xy), xy[, 1], xy[, :\n",
      "“51 projected point(s) not finite”\n",
      "Warning message in rgdal::rawTransform(projfrom, projto, nrow(xy), xy[, 1], xy[, :\n",
      "“51 projected point(s) not finite”\n",
      "Warning message in rgdal::rawTransform(projfrom, projto, nrow(xy), xy[, 1], xy[, :\n",
      "“51 projected point(s) not finite”\n",
      "Warning message in rgdal::rawTransform(projfrom, projto, nrow(xy), xy[, 1], xy[, :\n",
      "“51 projected point(s) not finite”\n",
      "Warning message in rgdal::rawTransform(projfrom, projto, nrow(xy), xy[, 1], xy[, :\n",
      "“51 projected point(s) not finite”\n",
      "Warning message in rgdal::rawTransform(projfrom, projto, nrow(xy), xy[, 1], xy[, :\n",
      "“51 projected point(s) not finite”\n"
     ]
    },
    {
     "name": "stdout",
     "output_type": "stream",
     "text": [
      "840.896 sec elapsed\n"
     ]
    }
   ],
   "source": [
    "tic()\n",
    "current_agg_medium <- purrr::map(current_rast_list, ~resample_equal_area(.x, km = res_list$medium))\n",
    "toc()\n",
    "# write rasters to file\n",
    "invisible(purrr::map(current_agg_medium, ~write_raster(.x, prefix = \"current_medium\")))"
   ]
  },
  {
   "cell_type": "markdown",
   "metadata": {},
   "source": [
    "## Terrain\n",
    "Elevation raster from [worldclim.org](worldclim.org) (based on SRTM elevation data). 2.5 arcmin resolution. I used the `raster::terrain()` function to calculate:  \n",
    "* slope\n",
    "* aspect\n",
    "* Topographic Position Index (TPI)\n",
    "* Terrain Ruggedness Index (TRI)\n",
    "* roughness\n",
    "\n",
    "The terrain calculation script is located here: `R/calc_terrain.R`"
   ]
  },
  {
   "cell_type": "code",
   "execution_count": 83,
   "metadata": {},
   "outputs": [],
   "source": [
    "terrain_path <- dir(here(\"data\", \"climate_raw\", \"terrain\"), pattern = \"*.tif$\", full.names = TRUE)\n",
    "terrain_rast_list <- purrr::map(terrain_path, raster)"
   ]
  },
  {
   "cell_type": "markdown",
   "metadata": {},
   "source": [
    "#### 96.5 km (high) resolution"
   ]
  },
  {
   "cell_type": "code",
   "execution_count": 84,
   "metadata": {},
   "outputs": [
    {
     "name": "stdout",
     "output_type": "stream",
     "text": [
      "291.247 sec elapsed\n"
     ]
    }
   ],
   "source": [
    "tic()\n",
    "terrain_agg_high <- purrr::map(terrain_rast_list, ~resample_equal_area(.x, km = res_list$high))\n",
    "toc()\n",
    "# write rasters to file\n",
    "invisible(purrr::map(terrain_agg_high, ~write_raster(.x, prefix = \"terrain_high\")))"
   ]
  },
  {
   "cell_type": "markdown",
   "metadata": {},
   "source": [
    "#### 193 km (medium) resolution"
   ]
  },
  {
   "cell_type": "code",
   "execution_count": 85,
   "metadata": {},
   "outputs": [
    {
     "name": "stdout",
     "output_type": "stream",
     "text": [
      "280.117 sec elapsed\n"
     ]
    }
   ],
   "source": [
    "tic()\n",
    "terrain_agg_medium <- purrr::map(terrain_rast_list, ~resample_equal_area(.x, km = res_list$medium))\n",
    "toc()\n",
    "# write rasters to file\n",
    "invisible(purrr::map(terrain_agg_medium, ~write_raster(.x, prefix = \"terrain_medium\")))"
   ]
  },
  {
   "cell_type": "markdown",
   "metadata": {},
   "source": [
    "## Habitat heterogeneity\n",
    "Global habitat heterogeneity measures from [earthenv.org](earthenv.org). 2.5 arcmin resolution. These are first and second-order texture indices based on the Enhanced Vegetation Index. The publication for these is [Tuanmu and Jetz 2015](http://onlinelibrary.wiley.com/doi/10.1111/geb.12365/abstract). "
   ]
  },
  {
   "cell_type": "code",
   "execution_count": 88,
   "metadata": {},
   "outputs": [],
   "source": [
    "ghh_path <- dir(here(\"data\", \"climate_raw\", \"ghh\"), pattern = \"*.tif$\", full.names = TRUE)\n",
    "ghh_rast_list <- purrr::map(ghh_path, raster)"
   ]
  },
  {
   "cell_type": "markdown",
   "metadata": {},
   "source": [
    "#### 96.5 km (high) resolution"
   ]
  },
  {
   "cell_type": "code",
   "execution_count": 89,
   "metadata": {
    "scrolled": true
   },
   "outputs": [
    {
     "name": "stdout",
     "output_type": "stream",
     "text": [
      "608.204 sec elapsed\n"
     ]
    }
   ],
   "source": [
    "tic()\n",
    "ghh_agg_high <- purrr::map(ghh_rast_list, ~resample_equal_area(.x, km = res_list$high))\n",
    "toc()\n",
    "# write rasters to file\n",
    "invisible(purrr::map(ghh_agg_high, ~write_raster(.x, prefix = \"ghh_high\")))"
   ]
  },
  {
   "cell_type": "markdown",
   "metadata": {},
   "source": [
    "#### 193 km (medium) resolution"
   ]
  },
  {
   "cell_type": "code",
   "execution_count": 94,
   "metadata": {},
   "outputs": [
    {
     "name": "stdout",
     "output_type": "stream",
     "text": [
      "571.337 sec elapsed\n"
     ]
    }
   ],
   "source": [
    "tic()\n",
    "ghh_agg_medium <- purrr::map(ghh_rast_list, ~resample_equal_area(.x, km = res_list$medium))\n",
    "toc()\n",
    "# write rasters to file\n",
    "invisible(purrr::map(ghh_agg_medium, ~write_raster(.x, prefix = \"ghh_medium\")))"
   ]
  },
  {
   "cell_type": "markdown",
   "metadata": {},
   "source": [
    "## Dynamic Habitat Indices\n",
    "Dynamic Habitat Indices from [the Sylvis Lab](http://silvis.forest.wisc.edu/data/dhis/). 30 arcsecond resolution. There are three vegetation measures: cumulative productivity (band 1), minimum productivity (band 2), and inter-annual variation of productivity (band 3). They are all based on MODIS-derived Enhanced Vegetation Indicies. The publication for this is [Hobi et al. 2017](https://doi.org/10.1016/j.rse.2017.04.018). Since the raw files are kept as a raster stack, I'm using a for loop instead of `purrr::map`."
   ]
  },
  {
   "cell_type": "code",
   "execution_count": 50,
   "metadata": {},
   "outputs": [],
   "source": [
    "dhi_path <- dir(here(\"data\", \"climate_raw\", \"dhi\"), pattern = \"*.tif$\", full.names = TRUE)\n",
    "dhi_rast_list <- stack(dhi_path)\n",
    "\n",
    "# assign reasonable names to each band\n",
    "names(dhi_rast_list) <- c(\"cum\", \"min\", \"var\")"
   ]
  },
  {
   "cell_type": "markdown",
   "metadata": {},
   "source": [
    "#### 96.5 km (high) resolution"
   ]
  },
  {
   "cell_type": "code",
   "execution_count": 51,
   "metadata": {
    "scrolled": true
   },
   "outputs": [
    {
     "name": "stdout",
     "output_type": "stream",
     "text": [
      "3669.726 sec elapsed\n"
     ]
    }
   ],
   "source": [
    "tic()\n",
    "for(i in 1:3) {\n",
    "    dhi_agg_high <- resample_equal_area(dhi_rast_list[[i]], km = res_list$high)\n",
    "    write_raster(dhi_agg_high, prefix = \"dhi_high\")\n",
    "}\n",
    "toc()"
   ]
  },
  {
   "cell_type": "markdown",
   "metadata": {},
   "source": [
    "#### 193 km (medium) resolution"
   ]
  },
  {
   "cell_type": "code",
   "execution_count": 52,
   "metadata": {},
   "outputs": [
    {
     "name": "stdout",
     "output_type": "stream",
     "text": [
      "3718.069 sec elapsed\n"
     ]
    }
   ],
   "source": [
    "tic()\n",
    "for(i in 1:3) {\n",
    "    dhi_agg_medium <- resample_equal_area(dhi_rast_list[[i]], km = res_list$medium)\n",
    "    write_raster(dhi_agg_medium, prefix = \"dhi_medium\")\n",
    "}\n",
    "toc()"
   ]
  },
  {
   "cell_type": "markdown",
   "metadata": {},
   "source": [
    "## Human modification\n",
    "0-1 scaled measure of human modification of terrestrial lands across the globe. 30 arc-second resolution.\n",
    "Citation: Kennedy CM, Oakleaf JR, Theobald DM, Baruch‐Mordo S, Kiesecker J. Managing the middle: A shift in conservation priorities based on the global human modification gradient. Glob Change Biol. 2019;25:811–826. https://doi.org/10.1111/gcb.14549"
   ]
  },
  {
   "cell_type": "code",
   "execution_count": 6,
   "metadata": {},
   "outputs": [],
   "source": [
    "human_path <- dir(here(\"data\", \"climate_raw\", \"human_mod\"), pattern = \"*.tif$\", full.names = TRUE)\n",
    "human_rast_list <- raster(human_path)"
   ]
  },
  {
   "cell_type": "markdown",
   "metadata": {},
   "source": [
    "#### 96.5 km (high) resolution"
   ]
  },
  {
   "cell_type": "code",
   "execution_count": 6,
   "metadata": {
    "scrolled": true
   },
   "outputs": [
    {
     "name": "stderr",
     "output_type": "stream",
     "text": [
      "Warning message in rgdal::rawTransform(projfrom, projto, nrow(xy), xy[, 1], xy[, :\n",
      "“230 projected point(s) not finite”\n",
      "Warning message in rgdal::rawTransform(projfrom, projto, nrow(xy), xy[, 1], xy[, :\n",
      "“230 projected point(s) not finite”\n"
     ]
    },
    {
     "name": "stdout",
     "output_type": "stream",
     "text": [
      "954.678 sec elapsed\n"
     ]
    }
   ],
   "source": [
    "tic()\n",
    "human_agg_high <- resample_equal_area(human_rast_list, km = res_list$high)\n",
    "toc()\n",
    "# write rasters to file\n",
    "write_raster(human_agg_high, prefix = \"human_high\")"
   ]
  },
  {
   "cell_type": "markdown",
   "metadata": {},
   "source": [
    "#### 193 km (medium) resolution"
   ]
  },
  {
   "cell_type": "code",
   "execution_count": 7,
   "metadata": {},
   "outputs": [
    {
     "name": "stderr",
     "output_type": "stream",
     "text": [
      "Warning message in rgdal::rawTransform(projfrom, projto, nrow(xy), xy[, 1], xy[, :\n",
      "“230 projected point(s) not finite”\n",
      "Warning message in rgdal::rawTransform(projfrom, projto, nrow(xy), xy[, 1], xy[, :\n",
      "“230 projected point(s) not finite”\n"
     ]
    },
    {
     "name": "stdout",
     "output_type": "stream",
     "text": [
      "961.798 sec elapsed\n"
     ]
    }
   ],
   "source": [
    "tic()\n",
    "human_agg_medium <- resample_equal_area(human_rast_list, km = res_list$medium)\n",
    "toc()\n",
    "# write rasters to file\n",
    "write_raster(human_agg_medium, prefix = \"human_medium\")"
   ]
  },
  {
   "cell_type": "code",
   "execution_count": null,
   "metadata": {},
   "outputs": [],
   "source": []
  }
 ],
 "metadata": {
  "kernelspec": {
   "display_name": "R",
   "language": "R",
   "name": "ir"
  },
  "language_info": {
   "codemirror_mode": "r",
   "file_extension": ".r",
   "mimetype": "text/x-r-source",
   "name": "R",
   "pygments_lexer": "r",
   "version": "4.1.2"
  }
 },
 "nbformat": 4,
 "nbformat_minor": 4
}
